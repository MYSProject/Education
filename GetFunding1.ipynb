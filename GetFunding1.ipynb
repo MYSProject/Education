{
 "cells": [
  {
   "cell_type": "code",
   "execution_count": 1,
   "metadata": {
    "collapsed": false
   },
   "outputs": [],
   "source": [
    "%matplotlib inline\n",
    "import numpy as np\n",
    "import scipy as sp\n",
    "import matplotlib as mpl\n",
    "import matplotlib.cm as cm\n",
    "import matplotlib.pyplot as plt\n",
    "import pandas as pd\n",
    "pd.set_option('display.width', 500)\n",
    "pd.set_option('display.max_columns', 100)\n",
    "pd.set_option('display.notebook_repr_html', True)\n",
    "import seaborn as sns\n",
    "sns.set_style(\"whitegrid\")\n",
    "sns.set_context(\"poster\")\n",
    "import requests\n",
    "from pyquery import PyQuery as pq\n"
   ]
  },
  {
   "cell_type": "code",
   "execution_count": 43,
   "metadata": {
    "collapsed": false
   },
   "outputs": [],
   "source": [
    "Mergeddata= pd.read_csv(\"mergeddata.csv\")\n",
    "DBNs = np.array((Mergeddata[\"DBN\"]))\n",
    "DBNs = list(set(DBNs))\n",
    "# DBNs"
   ]
  },
  {
   "cell_type": "code",
   "execution_count": 45,
   "metadata": {
    "collapsed": false
   },
   "outputs": [],
   "source": [
    "# keep the last four digits to the DBNs to get true DBNs\n",
    "DBNs_t = []\n",
    "for DBN in DBNs:\n",
    "    DBNs_t.append(str(DBN)[-4:])\n",
    "test = DBNs_t[0:20]\n",
    "# print test"
   ]
  },
  {
   "cell_type": "code",
   "execution_count": 46,
   "metadata": {
    "collapsed": false
   },
   "outputs": [],
   "source": [
    "#find all DBN numbers\n",
    "# DBN = [\"M540\", \"M539\",\"75K004\",\"75K036\", \"25Q120\", \"25Q154\",\n",
    "# \"25Q163\", \"K403\", \"K751\"]"
   ]
  },
  {
   "cell_type": "code",
   "execution_count": 49,
   "metadata": {
    "collapsed": false
   },
   "outputs": [
    {
     "data": {
      "text/html": [
       "<div>\n",
       "<table border=\"1\" class=\"dataframe\">\n",
       "  <thead>\n",
       "    <tr style=\"text-align: right;\">\n",
       "      <th></th>\n",
       "      <th>05M194</th>\n",
       "      <th>05M195</th>\n",
       "      <th>05M197</th>\n",
       "      <th>09X303</th>\n",
       "      <th>10X225</th>\n",
       "      <th>10X226</th>\n",
       "      <th>10X228</th>\n",
       "      <th>10X340</th>\n",
       "      <th>10X342</th>\n",
       "      <th>10X344</th>\n",
       "      <th>11X068</th>\n",
       "      <th>11X462</th>\n",
       "      <th>13K113</th>\n",
       "      <th>14K318</th>\n",
       "      <th>15K230</th>\n",
       "      <th>18K279</th>\n",
       "      <th>75Q009</th>\n",
       "      <th>75Q993</th>\n",
       "      <th>84M726</th>\n",
       "      <th>84X165</th>\n",
       "    </tr>\n",
       "  </thead>\n",
       "  <tbody>\n",
       "    <tr>\n",
       "      <th>0</th>\n",
       "      <td>$2,252,445</td>\n",
       "      <td>$2,946,889</td>\n",
       "      <td>$2,270,648</td>\n",
       "      <td>$1,747,218</td>\n",
       "      <td>$3,001,810</td>\n",
       "      <td>$2,722,452</td>\n",
       "      <td>$1,960,064</td>\n",
       "      <td>$3,042,324</td>\n",
       "      <td>$3,479,707</td>\n",
       "      <td>$918,220</td>\n",
       "      <td>$4,171,926</td>\n",
       "      <td>$1,368,822</td>\n",
       "      <td>$4,709,484</td>\n",
       "      <td>$7,720,906</td>\n",
       "      <td>$6,424,382</td>\n",
       "      <td>$3,577,652</td>\n",
       "      <td>0</td>\n",
       "      <td>0</td>\n",
       "      <td>0</td>\n",
       "      <td>0</td>\n",
       "    </tr>\n",
       "  </tbody>\n",
       "</table>\n",
       "</div>"
      ],
      "text/plain": [
       "       05M194      05M195      05M197      09X303      10X225      10X226      10X228      10X340      10X342    10X344      11X068      11X462      13K113      14K318      15K230      18K279  75Q009  75Q993  84M726  84X165\n",
       "0  $2,252,445  $2,946,889  $2,270,648  $1,747,218  $3,001,810  $2,722,452  $1,960,064  $3,042,324  $3,479,707  $918,220  $4,171,926  $1,368,822  $4,709,484  $7,720,906  $6,424,382  $3,577,652       0       0       0       0"
      ]
     },
     "execution_count": 49,
     "metadata": {},
     "output_type": "execute_result"
    }
   ],
   "source": [
    "#iterate through DBN numbers and load page with funding info\n",
    "# output = {}\n",
    "# counter = 0\n",
    "# for school in test:\n",
    "#     fundinginfo = pq(requests.get(\"http://schools.nyc.gov/AboutUs/funding/schoolbudgets/fy12SchoolBudgetOverview.htm?schoolcode=\"+school).text)\n",
    "#     funding = pq(fundinginfo)(\"#doecontrol_bottomcentercontainer_b_Executive_Summary_lblB01_R17\").text()\n",
    "#     if funding == '':\n",
    "#         funding = 0\n",
    "#     output[DBNs[counter]] = funding\n",
    "#     counter +=1\n",
    "# print output\n",
    "fundingdf= pd.DataFrame(output, index = [0])\n",
    "# finaldf.set_index(\"\")\n",
    "fundingdf"
   ]
  },
  {
   "cell_type": "code",
   "execution_count": null,
   "metadata": {
    "collapsed": true
   },
   "outputs": [],
   "source": [
    "#convert dictionary into dataframe\n",
    "{'10X225': '$3,001,810', '14K318': '$7,720,906', '84M726': 0, '10X226': '$2,722,452', '75Q009': 0, '05M197': '$2,270,648', '05M194': '$2,252,445', '05M195': '$2,946,889', '10X342': '$3,479,707', '11X068': '$4,171,926', '10X340': '$3,042,324', '10X228': '$1,960,064', '10X344': '$918,220', '09X303': '$1,747,218', '75Q993': 0, '84X165': 0, '13K113': '$4,709,484', '11X462': '$1,368,822', '18K279': '$3,577,652', '15K230': '$6,424,382'}\n"
   ]
  }
 ],
 "metadata": {
  "kernelspec": {
   "display_name": "Python 2",
   "language": "python",
   "name": "python2"
  },
  "language_info": {
   "codemirror_mode": {
    "name": "ipython",
    "version": 2
   },
   "file_extension": ".py",
   "mimetype": "text/x-python",
   "name": "python",
   "nbconvert_exporter": "python",
   "pygments_lexer": "ipython2",
   "version": "2.7.10"
  }
 },
 "nbformat": 4,
 "nbformat_minor": 0
}
