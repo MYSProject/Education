{
 "cells": [
  {
   "cell_type": "code",
   "execution_count": 2,
   "metadata": {
    "collapsed": false
   },
   "outputs": [],
   "source": [
    "%matplotlib inline\n",
    "import numpy as np\n",
    "import scipy as sp\n",
    "import matplotlib as mpl\n",
    "import matplotlib.cm as cm\n",
    "import matplotlib.pyplot as plt\n",
    "import pandas as pd\n",
    "pd.set_option('display.width', 500)\n",
    "pd.set_option('display.max_columns', 100)\n",
    "pd.set_option('display.notebook_repr_html', True)\n",
    "import seaborn as sns\n",
    "sns.set_style(\"whitegrid\")\n",
    "sns.set_context(\"poster\")\n",
    "import requests\n",
    "from pyquery import PyQuery as pq\n"
   ]
  },
  {
   "cell_type": "code",
   "execution_count": 5,
   "metadata": {
    "collapsed": false
   },
   "outputs": [
    {
     "data": {
      "text/plain": [
       "8345"
      ]
     },
     "execution_count": 5,
     "metadata": {},
     "output_type": "execute_result"
    }
   ],
   "source": [
    "# Demo = pd.read_csv(\"DemographicData.csv\")\n",
    "# DBNs = np.array(Demo[\"DBN\"])\n",
    "# DBNs\n",
    "# len(DBNs)"
   ]
  },
  {
   "cell_type": "code",
   "execution_count": 6,
   "metadata": {
    "collapsed": false
   },
   "outputs": [],
   "source": [
    "#find all DBN numbers\n",
    "DBN = ['10X225',\n",
    " '14K318',\n",
    " '10X226',\n",
    " '05M197',\n",
    " '05M194',\n",
    " '05M195',\n",
    " '10X342',\n",
    " '10X340',\n",
    " '10X228',\n",
    " '10X344',\n",
    " '09X303',\n",
    " '75Q993',\n",
    " '13K113',\n",
    " '15K230',\n",
    " '11X462',\n",
    " '75Q009',\n",
    " '11X068',\n",
    " '18K279',\n",
    " '24Q307',\n",
    " '18K276',\n",
    " '11X468',\n",
    " '28Q008',\n",
    " '18K272',\n",
    " '27Q262',\n",
    " '11X019',\n",
    " '28Q310',\n",
    " '03M199',\n",
    " '03M191',\n",
    " '17K353',\n",
    " '06M028',\n",
    " '19K159',\n",
    " '19K158']"
   ]
  },
  {
   "cell_type": "code",
   "execution_count": 8,
   "metadata": {
    "collapsed": false
   },
   "outputs": [
    {
     "name": "stdout",
     "output_type": "stream",
     "text": [
      "{'10X225': 0, '14K318': 0, '10X226': 0, '05M197': 0, '05M194': 0, '05M195': 0, '10X342': 0, '10X340': 0, '10X228': 0, '10X344': 0, '09X303': 0, '75Q993': 0, '13K113': 0, '15K230': 0, '11X462': 0, '75Q009': 0, '11X068': 0, '18K279': 0, '24Q307': 0, '18K276': 0, '11X468': 0, '28Q008': 0, '18K272': 0, '11X019': 0, '28Q310': 0, '03M199': 0, '03M191': 0, '17K353': 0, '06M028': 0, '19K159': 0, '19K158': 0, '27Q262': 0}\n"
     ]
    }
   ],
   "source": [
    "#iterate through DBN numbers and load page with funding info\n",
    "output = {}\n",
    "for school in DBN:\n",
    "    fundinginfo = requests.get(\"http://schools.nyc.gov/AboutUs/funding/schoolbudgets/fy12SchoolBudgetOverview.htm?schoolcode=\"+school).text\n",
    "    funding =  pq(fundinginfo)(\"#doecontrol_bottomcentercontainer_b_Executive_Summary_lblB01_R17\").text()\n",
    "    if funding == '':\n",
    "        funding = 0\n",
    "        \n",
    "    output[school] = funding\n",
    "print output\n",
    "    \n"
   ]
  },
  {
   "cell_type": "code",
   "execution_count": null,
   "metadata": {
    "collapsed": true
   },
   "outputs": [],
   "source": [
    "#convert dictionary into dataframe"
   ]
  },
  {
   "cell_type": "code",
   "execution_count": null,
   "metadata": {
    "collapsed": true
   },
   "outputs": [],
   "source": []
  }
 ],
 "metadata": {
  "kernelspec": {
   "display_name": "Python 2",
   "language": "python",
   "name": "python2"
  },
  "language_info": {
   "codemirror_mode": {
    "name": "ipython",
    "version": 2
   },
   "file_extension": ".py",
   "mimetype": "text/x-python",
   "name": "python",
   "nbconvert_exporter": "python",
   "pygments_lexer": "ipython2",
   "version": "2.7.10"
  }
 },
 "nbformat": 4,
 "nbformat_minor": 0
}
