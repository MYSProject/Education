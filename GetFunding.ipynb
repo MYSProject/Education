{
 "cells": [
  {
   "cell_type": "code",
   "execution_count": 8,
   "metadata": {
    "collapsed": false
   },
   "outputs": [],
   "source": [
    "%matplotlib inline\n",
    "import numpy as np\n",
    "import scipy as sp\n",
    "import matplotlib as mpl\n",
    "import matplotlib.cm as cm\n",
    "import matplotlib.pyplot as plt\n",
    "import pandas as pd\n",
    "pd.set_option('display.width', 500)\n",
    "pd.set_option('display.max_columns', 100)\n",
    "pd.set_option('display.notebook_repr_html', True)\n",
    "import seaborn as sns\n",
    "sns.set_style(\"whitegrid\")\n",
    "sns.set_context(\"poster\")\n",
    "import requests\n",
    "from pyquery import PyQuery as pq\n"
   ]
  },
  {
   "cell_type": "code",
   "execution_count": 62,
   "metadata": {
    "collapsed": false
   },
   "outputs": [],
   "source": [
    "#find all DBN numbers\n",
    "DBN = [\"M540\", \"M539\",\"75K004\",\"75K036\", \"25Q120\", \"25Q154\",\n",
    "\"25Q163\", \"K403\", \"K751\"]"
   ]
  },
  {
   "cell_type": "code",
   "execution_count": 63,
   "metadata": {
    "collapsed": false
   },
   "outputs": [
    {
     "name": "stdout",
     "output_type": "stream",
     "text": [
      "{'75K036': 0, '25Q163': 0, '25Q154': 0, '75K004': 0, 'M539': '$6,803,558', 'K751': '$802,176', 'M540': '$6,895,007', 'K403': '$2,183,980', '25Q120': 0}\n"
     ]
    }
   ],
   "source": [
    "#iterate through DBN numbers and load page with funding info\n",
    "output = {}\n",
    "for school in DBN:\n",
    "    fundinginfo = requests.get(\"http://schools.nyc.gov/AboutUs/funding/schoolbudgets/fy12SchoolBudgetOverview.htm?schoolcode=\"+school).text\n",
    "    funding =  pq(fundinginfo)(\"#doecontrol_bottomcentercontainer_b_Executive_Summary_lblB01_R17\").text()\n",
    "    if funding == '':\n",
    "        funding = 0\n",
    "        \n",
    "    output[school] = funding\n",
    "print output\n",
    "    \n"
   ]
  },
  {
   "cell_type": "code",
   "execution_count": null,
   "metadata": {
    "collapsed": true
   },
   "outputs": [],
   "source": [
    "#convert dictionary into dataframe"
   ]
  },
  {
   "cell_type": "code",
   "execution_count": null,
   "metadata": {
    "collapsed": true
   },
   "outputs": [],
   "source": []
  }
 ],
 "metadata": {
  "kernelspec": {
   "display_name": "Python 2",
   "language": "python",
   "name": "python2"
  },
  "language_info": {
   "codemirror_mode": {
    "name": "ipython",
    "version": 2
   },
   "file_extension": ".py",
   "mimetype": "text/x-python",
   "name": "python",
   "nbconvert_exporter": "python",
   "pygments_lexer": "ipython2",
   "version": "2.7.10"
  }
 },
 "nbformat": 4,
 "nbformat_minor": 0
}
