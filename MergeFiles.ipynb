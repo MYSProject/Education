{
 "cells": [
  {
   "cell_type": "code",
   "execution_count": 41,
   "metadata": {
    "collapsed": false
   },
   "outputs": [],
   "source": [
    "%matplotlib inline\n",
    "import numpy as np\n",
    "import scipy as sp\n",
    "import matplotlib as mpl\n",
    "import matplotlib.cm as cm\n",
    "import matplotlib.pyplot as plt\n",
    "import pandas as pd\n",
    "pd.set_option('display.width', 500)\n",
    "pd.set_option('display.max_columns', 100)\n",
    "pd.set_option('display.notebook_repr_html', True)\n",
    "import seaborn as sns\n",
    "sns.set_style(\"whitegrid\")\n",
    "sns.set_context(\"poster\")\n",
    "\n"
   ]
  },
  {
   "cell_type": "code",
   "execution_count": 76,
   "metadata": {
    "collapsed": false
   },
   "outputs": [
    {
     "data": {
      "text/html": [
       "<div>\n",
       "<table border=\"1\" class=\"dataframe\">\n",
       "  <thead>\n",
       "    <tr style=\"text-align: right;\">\n",
       "      <th></th>\n",
       "      <th>DBN</th>\n",
       "      <th>Grade</th>\n",
       "      <th>Year</th>\n",
       "      <th>Demographic</th>\n",
       "      <th>Number Tested</th>\n",
       "      <th>Mean Scale Score</th>\n",
       "      <th>Num Level 1</th>\n",
       "      <th>Pct Level 1</th>\n",
       "      <th>Num Level 2</th>\n",
       "      <th>Pct Level 2</th>\n",
       "      <th>Num Level 3</th>\n",
       "      <th>Pct Level 3</th>\n",
       "      <th>Num Level 4</th>\n",
       "      <th>Pct Level 4</th>\n",
       "      <th>Num Level 3 and 4</th>\n",
       "      <th>Pct Level 3 and 4</th>\n",
       "    </tr>\n",
       "  </thead>\n",
       "  <tbody>\n",
       "    <tr>\n",
       "      <th>0</th>\n",
       "      <td>01M015</td>\n",
       "      <td>3</td>\n",
       "      <td>2006</td>\n",
       "      <td>ELL</td>\n",
       "      <td>4</td>\n",
       "      <td>s</td>\n",
       "      <td>s</td>\n",
       "      <td>s</td>\n",
       "      <td>s</td>\n",
       "      <td>s</td>\n",
       "      <td>s</td>\n",
       "      <td>s</td>\n",
       "      <td>s</td>\n",
       "      <td>s</td>\n",
       "      <td>s</td>\n",
       "      <td>s</td>\n",
       "    </tr>\n",
       "    <tr>\n",
       "      <th>1</th>\n",
       "      <td>01M015</td>\n",
       "      <td>3</td>\n",
       "      <td>2006</td>\n",
       "      <td>EP</td>\n",
       "      <td>35</td>\n",
       "      <td>671</td>\n",
       "      <td>0</td>\n",
       "      <td>0</td>\n",
       "      <td>10</td>\n",
       "      <td>28.6</td>\n",
       "      <td>19</td>\n",
       "      <td>54.3</td>\n",
       "      <td>6</td>\n",
       "      <td>17.1</td>\n",
       "      <td>25</td>\n",
       "      <td>71.4</td>\n",
       "    </tr>\n",
       "    <tr>\n",
       "      <th>2</th>\n",
       "      <td>01M015</td>\n",
       "      <td>3</td>\n",
       "      <td>2007</td>\n",
       "      <td>ELL</td>\n",
       "      <td>8</td>\n",
       "      <td>668</td>\n",
       "      <td>0</td>\n",
       "      <td>0</td>\n",
       "      <td>1</td>\n",
       "      <td>12.5</td>\n",
       "      <td>6</td>\n",
       "      <td>75</td>\n",
       "      <td>1</td>\n",
       "      <td>12.5</td>\n",
       "      <td>7</td>\n",
       "      <td>87.5</td>\n",
       "    </tr>\n",
       "    <tr>\n",
       "      <th>3</th>\n",
       "      <td>01M015</td>\n",
       "      <td>3</td>\n",
       "      <td>2007</td>\n",
       "      <td>EP</td>\n",
       "      <td>23</td>\n",
       "      <td>674</td>\n",
       "      <td>2</td>\n",
       "      <td>8.7</td>\n",
       "      <td>2</td>\n",
       "      <td>8.7</td>\n",
       "      <td>16</td>\n",
       "      <td>69.6</td>\n",
       "      <td>3</td>\n",
       "      <td>13</td>\n",
       "      <td>19</td>\n",
       "      <td>82.6</td>\n",
       "    </tr>\n",
       "    <tr>\n",
       "      <th>4</th>\n",
       "      <td>01M015</td>\n",
       "      <td>3</td>\n",
       "      <td>2008</td>\n",
       "      <td>ELL</td>\n",
       "      <td>6</td>\n",
       "      <td>670</td>\n",
       "      <td>0</td>\n",
       "      <td>0</td>\n",
       "      <td>0</td>\n",
       "      <td>0</td>\n",
       "      <td>6</td>\n",
       "      <td>100</td>\n",
       "      <td>0</td>\n",
       "      <td>0</td>\n",
       "      <td>6</td>\n",
       "      <td>100</td>\n",
       "    </tr>\n",
       "  </tbody>\n",
       "</table>\n",
       "</div>"
      ],
      "text/plain": [
       "      DBN Grade  Year Demographic  Number Tested Mean Scale Score Num Level 1 Pct Level 1 Num Level 2 Pct Level 2 Num Level 3 Pct Level 3 Num Level 4 Pct Level 4 Num Level 3 and 4 Pct Level 3 and 4\n",
       "0  01M015     3  2006         ELL              4                s           s           s           s           s           s           s           s           s                 s                 s\n",
       "1  01M015     3  2006          EP             35              671           0           0          10        28.6          19        54.3           6        17.1                25              71.4\n",
       "2  01M015     3  2007         ELL              8              668           0           0           1        12.5           6          75           1        12.5                 7              87.5\n",
       "3  01M015     3  2007          EP             23              674           2         8.7           2         8.7          16        69.6           3          13                19              82.6\n",
       "4  01M015     3  2008         ELL              6              670           0           0           0           0           6         100           0           0                 6               100"
      ]
     },
     "execution_count": 76,
     "metadata": {},
     "output_type": "execute_result"
    }
   ],
   "source": [
    "englishEll=pd.read_csv(\"English-ELL.csv\")\n",
    "MathEll=pd.read_csv(\"Math-ELL.csv\")\n",
    "Charter = pd.read_csv(\"Math-Charter.csv\")\n",
    "MathEll.head()\n"
   ]
  },
  {
   "cell_type": "code",
   "execution_count": 14,
   "metadata": {
    "collapsed": false
   },
   "outputs": [
    {
     "data": {
      "text/plain": [
       "(63470, 16)"
      ]
     },
     "execution_count": 14,
     "metadata": {},
     "output_type": "execute_result"
    }
   ],
   "source": [
    "englishEll.shape"
   ]
  },
  {
   "cell_type": "code",
   "execution_count": 15,
   "metadata": {
    "collapsed": false
   },
   "outputs": [
    {
     "data": {
      "text/plain": [
       "(64228, 16)"
      ]
     },
     "execution_count": 15,
     "metadata": {},
     "output_type": "execute_result"
    }
   ],
   "source": [
    "MathEll.shape"
   ]
  },
  {
   "cell_type": "code",
   "execution_count": 27,
   "metadata": {
    "collapsed": false
   },
   "outputs": [],
   "source": [
    "englishEll.columns = ['DBN', 'Grade', \"Year\", \"Demographic\", \"E.NumberTested\", \"E.Mean Scale Score\", \"E.Num Level 1\", \"E.Pct Level 1\", \"E.Num Level 2\", \"E.Pct Level 2\",\"E.Num Level 3\", \"E.Pct Level 3\", \"E.Num Level 4\", \"E.Pct Level 4\", \"E.Num Level 3 and 4\", \"E.Pct Level 3 and 4\"]"
   ]
  },
  {
   "cell_type": "code",
   "execution_count": 28,
   "metadata": {
    "collapsed": false
   },
   "outputs": [],
   "source": [
    "MathEll.columns = ['DBN', 'Grade', \"Year\", \"Demographic\", \"M.NumberTested\", \"M.Mean Scale Score\", \"M.Num Level 1\", \"M.Pct Level 1\", \"M.Num Level 2\", \"M.Pct Level 2\",\"M.Num Level 3\", \"M.Pct Level 3\", \"M.Num Level 4\", \"M.Pct Level 4\", \"M.Num Level 3 and 4\", \"M.Pct Level 3 and 4\"]"
   ]
  },
  {
   "cell_type": "code",
   "execution_count": 72,
   "metadata": {
    "collapsed": false
   },
   "outputs": [],
   "source": [
    "merge = MathEll.merge(englishEll, how='outer', on=[\"DBN\", \"Grade\", \"Year\", \"Demographic\"],\n",
    "      left_index=False, right_index=False, sort=False, copy=True)\n",
    "merge.columns = ['DBN', 'Grade', \"Year\", \"Demographic\", \"M.NumberTested\", \"M.Mean Scale Score\", \"M.Num Level 1\", \"M.Pct Level 1\", \"M.Num Level 2\", \"M.Pct Level 2\",\"M.Num Level 3\", \"M.Pct Level 3\", \"M.Num Level 4\", \"M.Pct Level 4\", \"M.Num Level 3 and 4\", \"M.Pct Level 3 and 4\",\"E.NumberTested\", \"E.Mean Scale Score\", \"E.Num Level 1\", \"E.Pct Level 1\", \"E.Num Level 2\", \"E.Pct Level 2\",\"E.Num Level 3\", \"E.Pct Level 3\", \"E.Num Level 4\", \"E.Pct Level 4\", \"E.Num Level 3 and 4\", \"E.Pct Level 3 and 4\"]"
   ]
  },
  {
   "cell_type": "code",
   "execution_count": 73,
   "metadata": {
    "collapsed": false
   },
   "outputs": [
    {
     "data": {
      "text/plain": [
       "(64319, 28)"
      ]
     },
     "execution_count": 73,
     "metadata": {},
     "output_type": "execute_result"
    }
   ],
   "source": [
    "merge.shape"
   ]
  },
  {
   "cell_type": "code",
   "execution_count": 74,
   "metadata": {
    "collapsed": false
   },
   "outputs": [
    {
     "data": {
      "text/html": [
       "<div>\n",
       "<table border=\"1\" class=\"dataframe\">\n",
       "  <thead>\n",
       "    <tr style=\"text-align: right;\">\n",
       "      <th></th>\n",
       "      <th>DBN</th>\n",
       "      <th>Grade</th>\n",
       "      <th>Year</th>\n",
       "      <th>Demographic</th>\n",
       "      <th>M.NumberTested</th>\n",
       "      <th>M.Mean Scale Score</th>\n",
       "      <th>M.Num Level 1</th>\n",
       "      <th>M.Pct Level 1</th>\n",
       "      <th>M.Num Level 2</th>\n",
       "      <th>M.Pct Level 2</th>\n",
       "      <th>M.Num Level 3</th>\n",
       "      <th>M.Pct Level 3</th>\n",
       "      <th>M.Num Level 4</th>\n",
       "      <th>M.Pct Level 4</th>\n",
       "      <th>M.Num Level 3 and 4</th>\n",
       "      <th>M.Pct Level 3 and 4</th>\n",
       "      <th>E.NumberTested</th>\n",
       "      <th>E.Mean Scale Score</th>\n",
       "      <th>E.Num Level 1</th>\n",
       "      <th>E.Pct Level 1</th>\n",
       "      <th>E.Num Level 2</th>\n",
       "      <th>E.Pct Level 2</th>\n",
       "      <th>E.Num Level 3</th>\n",
       "      <th>E.Pct Level 3</th>\n",
       "      <th>E.Num Level 4</th>\n",
       "      <th>E.Pct Level 4</th>\n",
       "      <th>E.Num Level 3 and 4</th>\n",
       "      <th>E.Pct Level 3 and 4</th>\n",
       "    </tr>\n",
       "  </thead>\n",
       "  <tbody>\n",
       "    <tr>\n",
       "      <th>0</th>\n",
       "      <td>01M015</td>\n",
       "      <td>3</td>\n",
       "      <td>2006</td>\n",
       "      <td>ELL</td>\n",
       "      <td>4</td>\n",
       "      <td>s</td>\n",
       "      <td>s</td>\n",
       "      <td>s</td>\n",
       "      <td>s</td>\n",
       "      <td>s</td>\n",
       "      <td>s</td>\n",
       "      <td>s</td>\n",
       "      <td>s</td>\n",
       "      <td>s</td>\n",
       "      <td>s</td>\n",
       "      <td>s</td>\n",
       "      <td>NaN</td>\n",
       "      <td>NaN</td>\n",
       "      <td>NaN</td>\n",
       "      <td>NaN</td>\n",
       "      <td>NaN</td>\n",
       "      <td>NaN</td>\n",
       "      <td>NaN</td>\n",
       "      <td>NaN</td>\n",
       "      <td>NaN</td>\n",
       "      <td>NaN</td>\n",
       "      <td>NaN</td>\n",
       "      <td>NaN</td>\n",
       "    </tr>\n",
       "    <tr>\n",
       "      <th>1</th>\n",
       "      <td>01M015</td>\n",
       "      <td>3</td>\n",
       "      <td>2006</td>\n",
       "      <td>EP</td>\n",
       "      <td>35</td>\n",
       "      <td>671</td>\n",
       "      <td>0</td>\n",
       "      <td>0</td>\n",
       "      <td>10</td>\n",
       "      <td>28.6</td>\n",
       "      <td>19</td>\n",
       "      <td>54.3</td>\n",
       "      <td>6</td>\n",
       "      <td>17.1</td>\n",
       "      <td>25</td>\n",
       "      <td>71.4</td>\n",
       "      <td>37</td>\n",
       "      <td>651</td>\n",
       "      <td>4</td>\n",
       "      <td>10.8</td>\n",
       "      <td>14</td>\n",
       "      <td>37.8</td>\n",
       "      <td>19</td>\n",
       "      <td>51.4</td>\n",
       "      <td>0</td>\n",
       "      <td>0</td>\n",
       "      <td>19</td>\n",
       "      <td>51.4</td>\n",
       "    </tr>\n",
       "    <tr>\n",
       "      <th>2</th>\n",
       "      <td>01M015</td>\n",
       "      <td>3</td>\n",
       "      <td>2007</td>\n",
       "      <td>ELL</td>\n",
       "      <td>8</td>\n",
       "      <td>668</td>\n",
       "      <td>0</td>\n",
       "      <td>0</td>\n",
       "      <td>1</td>\n",
       "      <td>12.5</td>\n",
       "      <td>6</td>\n",
       "      <td>75</td>\n",
       "      <td>1</td>\n",
       "      <td>12.5</td>\n",
       "      <td>7</td>\n",
       "      <td>87.5</td>\n",
       "      <td>8</td>\n",
       "      <td>627</td>\n",
       "      <td>2</td>\n",
       "      <td>25</td>\n",
       "      <td>6</td>\n",
       "      <td>75</td>\n",
       "      <td>0</td>\n",
       "      <td>0</td>\n",
       "      <td>0</td>\n",
       "      <td>0</td>\n",
       "      <td>0</td>\n",
       "      <td>0</td>\n",
       "    </tr>\n",
       "    <tr>\n",
       "      <th>3</th>\n",
       "      <td>01M015</td>\n",
       "      <td>3</td>\n",
       "      <td>2007</td>\n",
       "      <td>EP</td>\n",
       "      <td>23</td>\n",
       "      <td>674</td>\n",
       "      <td>2</td>\n",
       "      <td>8.7</td>\n",
       "      <td>2</td>\n",
       "      <td>8.7</td>\n",
       "      <td>16</td>\n",
       "      <td>69.6</td>\n",
       "      <td>3</td>\n",
       "      <td>13</td>\n",
       "      <td>19</td>\n",
       "      <td>82.6</td>\n",
       "      <td>25</td>\n",
       "      <td>637</td>\n",
       "      <td>4</td>\n",
       "      <td>16</td>\n",
       "      <td>12</td>\n",
       "      <td>48</td>\n",
       "      <td>9</td>\n",
       "      <td>36</td>\n",
       "      <td>0</td>\n",
       "      <td>0</td>\n",
       "      <td>9</td>\n",
       "      <td>36</td>\n",
       "    </tr>\n",
       "    <tr>\n",
       "      <th>4</th>\n",
       "      <td>01M015</td>\n",
       "      <td>3</td>\n",
       "      <td>2008</td>\n",
       "      <td>ELL</td>\n",
       "      <td>6</td>\n",
       "      <td>670</td>\n",
       "      <td>0</td>\n",
       "      <td>0</td>\n",
       "      <td>0</td>\n",
       "      <td>0</td>\n",
       "      <td>6</td>\n",
       "      <td>100</td>\n",
       "      <td>0</td>\n",
       "      <td>0</td>\n",
       "      <td>6</td>\n",
       "      <td>100</td>\n",
       "      <td>6</td>\n",
       "      <td>643</td>\n",
       "      <td>0</td>\n",
       "      <td>0</td>\n",
       "      <td>4</td>\n",
       "      <td>66.7</td>\n",
       "      <td>2</td>\n",
       "      <td>33.3</td>\n",
       "      <td>0</td>\n",
       "      <td>0</td>\n",
       "      <td>2</td>\n",
       "      <td>33.3</td>\n",
       "    </tr>\n",
       "  </tbody>\n",
       "</table>\n",
       "</div>"
      ],
      "text/plain": [
       "      DBN Grade  Year Demographic  M.NumberTested M.Mean Scale Score M.Num Level 1 M.Pct Level 1 M.Num Level 2 M.Pct Level 2 M.Num Level 3 M.Pct Level 3 M.Num Level 4 M.Pct Level 4 M.Num Level 3 and 4 M.Pct Level 3 and 4  E.NumberTested E.Mean Scale Score E.Num Level 1 E.Pct Level 1 E.Num Level 2 E.Pct Level 2 E.Num Level 3 E.Pct Level 3 E.Num Level 4 E.Pct Level 4 E.Num Level 3 and 4 E.Pct Level 3 and 4\n",
       "0  01M015     3  2006         ELL               4                  s             s             s             s             s             s             s             s             s                   s                   s             NaN                NaN           NaN           NaN           NaN           NaN           NaN           NaN           NaN           NaN                 NaN                 NaN\n",
       "1  01M015     3  2006          EP              35                671             0             0            10          28.6            19          54.3             6          17.1                  25                71.4              37                651             4          10.8            14          37.8            19          51.4             0             0                  19                51.4\n",
       "2  01M015     3  2007         ELL               8                668             0             0             1          12.5             6            75             1          12.5                   7                87.5               8                627             2            25             6            75             0             0             0             0                   0                   0\n",
       "3  01M015     3  2007          EP              23                674             2           8.7             2           8.7            16          69.6             3            13                  19                82.6              25                637             4            16            12            48             9            36             0             0                   9                  36\n",
       "4  01M015     3  2008         ELL               6                670             0             0             0             0             6           100             0             0                   6                 100               6                643             0             0             4          66.7             2          33.3             0             0                   2                33.3"
      ]
     },
     "execution_count": 74,
     "metadata": {},
     "output_type": "execute_result"
    }
   ],
   "source": [
    "merge.head()"
   ]
  },
  {
   "cell_type": "code",
   "execution_count": 78,
   "metadata": {
    "collapsed": false
   },
   "outputs": [
    {
     "data": {
      "text/plain": [
       "(1835, 16)"
      ]
     },
     "execution_count": 78,
     "metadata": {},
     "output_type": "execute_result"
    }
   ],
   "source": [
    "Charter.shape"
   ]
  },
  {
   "cell_type": "code",
   "execution_count": 79,
   "metadata": {
    "collapsed": false
   },
   "outputs": [
    {
     "data": {
      "text/html": [
       "<div>\n",
       "<table border=\"1\" class=\"dataframe\">\n",
       "  <thead>\n",
       "    <tr style=\"text-align: right;\">\n",
       "      <th></th>\n",
       "      <th>DBN</th>\n",
       "      <th>Grade</th>\n",
       "      <th>Year</th>\n",
       "      <th>Demographic</th>\n",
       "      <th>Number Tested</th>\n",
       "      <th>Mean Scale Score</th>\n",
       "      <th>Num Level 1</th>\n",
       "      <th>Pct Level 1</th>\n",
       "      <th>Num Level 2</th>\n",
       "      <th>Pct Level 2</th>\n",
       "      <th>Num Level 3</th>\n",
       "      <th>Pct Level 3</th>\n",
       "      <th>Num Level 4</th>\n",
       "      <th>Pct Level 4</th>\n",
       "      <th>Num Level 3 and 4</th>\n",
       "      <th>Pct Level 3 and 4</th>\n",
       "    </tr>\n",
       "  </thead>\n",
       "  <tbody>\n",
       "    <tr>\n",
       "      <th>0</th>\n",
       "      <td>84K355</td>\n",
       "      <td>5</td>\n",
       "      <td>2006</td>\n",
       "      <td>All Students</td>\n",
       "      <td>72</td>\n",
       "      <td>664</td>\n",
       "      <td>1</td>\n",
       "      <td>1.4</td>\n",
       "      <td>24</td>\n",
       "      <td>33.3</td>\n",
       "      <td>41</td>\n",
       "      <td>56.9</td>\n",
       "      <td>6</td>\n",
       "      <td>8.3</td>\n",
       "      <td>47</td>\n",
       "      <td>65.3</td>\n",
       "    </tr>\n",
       "    <tr>\n",
       "      <th>1</th>\n",
       "      <td>84K355</td>\n",
       "      <td>5</td>\n",
       "      <td>2007</td>\n",
       "      <td>All Students</td>\n",
       "      <td>64</td>\n",
       "      <td>688</td>\n",
       "      <td>0</td>\n",
       "      <td>0</td>\n",
       "      <td>4</td>\n",
       "      <td>6.3</td>\n",
       "      <td>44</td>\n",
       "      <td>68.8</td>\n",
       "      <td>16</td>\n",
       "      <td>25</td>\n",
       "      <td>60</td>\n",
       "      <td>93.8</td>\n",
       "    </tr>\n",
       "    <tr>\n",
       "      <th>2</th>\n",
       "      <td>84K355</td>\n",
       "      <td>5</td>\n",
       "      <td>2008</td>\n",
       "      <td>All Students</td>\n",
       "      <td>76</td>\n",
       "      <td>688</td>\n",
       "      <td>1</td>\n",
       "      <td>1.3</td>\n",
       "      <td>2</td>\n",
       "      <td>2.6</td>\n",
       "      <td>50</td>\n",
       "      <td>65.8</td>\n",
       "      <td>23</td>\n",
       "      <td>30.3</td>\n",
       "      <td>73</td>\n",
       "      <td>96.1</td>\n",
       "    </tr>\n",
       "    <tr>\n",
       "      <th>3</th>\n",
       "      <td>84K355</td>\n",
       "      <td>5</td>\n",
       "      <td>2009</td>\n",
       "      <td>All Students</td>\n",
       "      <td>52</td>\n",
       "      <td>703</td>\n",
       "      <td>0</td>\n",
       "      <td>0</td>\n",
       "      <td>0</td>\n",
       "      <td>0</td>\n",
       "      <td>21</td>\n",
       "      <td>40.4</td>\n",
       "      <td>31</td>\n",
       "      <td>59.6</td>\n",
       "      <td>52</td>\n",
       "      <td>100</td>\n",
       "    </tr>\n",
       "    <tr>\n",
       "      <th>4</th>\n",
       "      <td>84K355</td>\n",
       "      <td>5</td>\n",
       "      <td>2010</td>\n",
       "      <td>All Students</td>\n",
       "      <td>79</td>\n",
       "      <td>692</td>\n",
       "      <td>0</td>\n",
       "      <td>0</td>\n",
       "      <td>11</td>\n",
       "      <td>13.9</td>\n",
       "      <td>49</td>\n",
       "      <td>62</td>\n",
       "      <td>19</td>\n",
       "      <td>24.1</td>\n",
       "      <td>68</td>\n",
       "      <td>86.1</td>\n",
       "    </tr>\n",
       "  </tbody>\n",
       "</table>\n",
       "</div>"
      ],
      "text/plain": [
       "      DBN Grade  Year   Demographic  Number Tested Mean Scale Score Num Level 1 Pct Level 1 Num Level 2 Pct Level 2 Num Level 3 Pct Level 3 Num Level 4 Pct Level 4 Num Level 3 and 4 Pct Level 3 and 4\n",
       "0  84K355     5  2006  All Students             72              664           1         1.4          24        33.3          41        56.9           6         8.3                47              65.3\n",
       "1  84K355     5  2007  All Students             64              688           0           0           4         6.3          44        68.8          16          25                60              93.8\n",
       "2  84K355     5  2008  All Students             76              688           1         1.3           2         2.6          50        65.8          23        30.3                73              96.1\n",
       "3  84K355     5  2009  All Students             52              703           0           0           0           0          21        40.4          31        59.6                52               100\n",
       "4  84K355     5  2010  All Students             79              692           0           0          11        13.9          49          62          19        24.1                68              86.1"
      ]
     },
     "execution_count": 79,
     "metadata": {},
     "output_type": "execute_result"
    }
   ],
   "source": [
    "Charter.head()"
   ]
  },
  {
   "cell_type": "code",
   "execution_count": null,
   "metadata": {
    "collapsed": false
   },
   "outputs": [],
   "source": [
    "schools = []\n",
    "for i in MathEll.iterrows():\n",
    "    schools.append(i[1][\"DBN\"])\n"
   ]
  },
  {
   "cell_type": "code",
   "execution_count": null,
   "metadata": {
    "collapsed": true
   },
   "outputs": [],
   "source": []
  }
 ],
 "metadata": {
  "kernelspec": {
   "display_name": "Python 2",
   "language": "python",
   "name": "python2"
  },
  "language_info": {
   "codemirror_mode": {
    "name": "ipython",
    "version": 2
   },
   "file_extension": ".py",
   "mimetype": "text/x-python",
   "name": "python",
   "nbconvert_exporter": "python",
   "pygments_lexer": "ipython2",
   "version": "2.7.10"
  }
 },
 "nbformat": 4,
 "nbformat_minor": 0
}
