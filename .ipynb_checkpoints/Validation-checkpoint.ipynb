{
 "cells": [
  {
   "cell_type": "code",
   "execution_count": 8,
   "metadata": {
    "collapsed": true
   },
   "outputs": [],
   "source": [
    "%matplotlib inline\n",
    "import numpy as np\n",
    "import scipy as sp\n",
    "import matplotlib as mpl\n",
    "import matplotlib.cm as cm\n",
    "import matplotlib.pyplot as plt\n",
    "import pandas as pd\n",
    "pd.set_option('display.width', 500)\n",
    "pd.set_option('display.max_columns', 100)\n",
    "pd.set_option('display.notebook_repr_html', True)\n",
    "import seaborn as sns\n",
    "sns.set_style(\"whitegrid\")\n",
    "sns.set_context(\"poster\")\n",
    "import statsmodels.api as sm"
   ]
  },
  {
   "cell_type": "code",
   "execution_count": 9,
   "metadata": {
    "collapsed": true
   },
   "outputs": [],
   "source": [
    "mergedf = pd.read_csv(\"mergedfupdate_new122version.csv\")"
   ]
  },
  {
   "cell_type": "code",
   "execution_count": 10,
   "metadata": {
    "collapsed": false
   },
   "outputs": [],
   "source": [
    "mergedf =  mergedf[mergedf[\"Funding\"] != 0]"
   ]
  },
  {
   "cell_type": "code",
   "execution_count": 11,
   "metadata": {
    "collapsed": false
   },
   "outputs": [],
   "source": [
    "from sklearn.cross_validation import train_test_split\n",
    "train, test = train_test_split(mergedf, test_size=0.33)"
   ]
  },
  {
   "cell_type": "code",
   "execution_count": 12,
   "metadata": {
    "collapsed": true
   },
   "outputs": [],
   "source": [
    "train, validate = train_test_split(train, test_size = 0.33)"
   ]
  },
  {
   "cell_type": "code",
   "execution_count": 14,
   "metadata": {
    "collapsed": false
   },
   "outputs": [
    {
     "name": "stdout",
     "output_type": "stream",
     "text": [
      "(2694, 39) (1328, 39) (1981, 39)\n"
     ]
    }
   ],
   "source": [
    "print train.shape, validate.shape, test.shape"
   ]
  },
  {
   "cell_type": "code",
   "execution_count": 77,
   "metadata": {
    "collapsed": false
   },
   "outputs": [],
   "source": [
    "# variables\n",
    "X_train = train[['Funding', 'Average_Class_Size', 'Avg_No_Crim_N', 'Female_Percentage', 'Asian_Percentage', 'Black_Percentage', 'Hispanic_Percentage']]\n",
    "y_train = train['Mean_Scale_Score']\n",
    "X_validation = validate[['Funding', 'Average_Class_Size', 'Avg_No_Crim_N', 'Female_Percentage', 'Asian_Percentage', 'Black_Percentage', 'Hispanic_Percentage']]\n",
    "y_validation = validate['Mean_Scale_Score']\n",
    "X_test = test[['Funding', 'Average_Class_Size', 'Avg_No_Crim_N', 'Female_Percentage', 'Asian_Percentage', 'Black_Percentage', 'Hispanic_Percentage']]\n",
    "y_test = test['Mean_Scale_Score']"
   ]
  },
  {
   "cell_type": "code",
   "execution_count": 78,
   "metadata": {
    "collapsed": true
   },
   "outputs": [],
   "source": [
    "# define a function to calculate the RMSE score\n",
    "def get_rmse(s, s_predict):\n",
    "    diff = s - s_predict\n",
    "    return np.sqrt(np.dot(diff,diff)/diff.shape[0])"
   ]
  },
  {
   "cell_type": "code",
   "execution_count": 79,
   "metadata": {
    "collapsed": false
   },
   "outputs": [
    {
     "data": {
      "text/plain": [
       "61.580511162597531"
      ]
     },
     "execution_count": 79,
     "metadata": {},
     "output_type": "execute_result"
    }
   ],
   "source": [
    "# now try different models on the train set and select the best one in terms of RMSE score\n",
    "# OLS\n",
    "ols = sm.OLS(y_train, X_train).fit()\n",
    "y_ols_pred = ols.predict(X_test)\n",
    "get_rmse(y_test, y_ols_pred)"
   ]
  },
  {
   "cell_type": "code",
   "execution_count": 35,
   "metadata": {
    "collapsed": false
   },
   "outputs": [
    {
     "data": {
      "text/plain": [
       "11.806907541194878"
      ]
     },
     "execution_count": 35,
     "metadata": {},
     "output_type": "execute_result"
    }
   ],
   "source": [
    "# Lasso regression\n",
    "from sklearn import linear_model\n",
    "clf_lasso = linear_model.Lasso(alpha=0.1)\n",
    "clf_lasso.fit(X_train, y_train)\n",
    "y_lasso_pred = clf_lasso.predict(X_test)\n",
    "get_rmse(y_test, y_lasso_pred)"
   ]
  },
  {
   "cell_type": "code",
   "execution_count": 30,
   "metadata": {
    "collapsed": false
   },
   "outputs": [
    {
     "data": {
      "text/plain": [
       "26.729306582638699"
      ]
     },
     "execution_count": 30,
     "metadata": {},
     "output_type": "execute_result"
    }
   ],
   "source": [
    "# Linear svm\n",
    "from sklearn.svm import LinearSVC\n",
    "from sklearn import grid_search\n",
    "clf_svm = LinearSVC(loss = 'hinge')\n",
    "parameters = {\"C\": [0.001, 0.01, 0.1, 1.0, 10.0, 100.0]}\n",
    "best = grid_search.GridSearchCV(clf_svm, param_grid=parameters, cv=5)\n",
    "best.fit(X_train, y_train)\n",
    "y_svm_pred = best.predict(X_test)\n",
    "get_rmse(y_test, y_svm_pred)"
   ]
  },
  {
   "cell_type": "code",
   "execution_count": 36,
   "metadata": {
    "collapsed": false
   },
   "outputs": [
    {
     "data": {
      "text/plain": [
       "11.714723298968071"
      ]
     },
     "execution_count": 36,
     "metadata": {},
     "output_type": "execute_result"
    }
   ],
   "source": [
    "# Generalized linear model\n",
    "from sklearn import linear_model\n",
    "clf_gen = linear_model.LinearRegression()\n",
    "clf_gen.fit(X_train, y_train)\n",
    "y_gen_pred = clf_gen.predict(X_test)\n",
    "get_rmse(y_test, y_gen_pred)"
   ]
  },
  {
   "cell_type": "code",
   "execution_count": 40,
   "metadata": {
    "collapsed": true
   },
   "outputs": [],
   "source": [
    "def compare_results(scores_actual, scores_predicted, ylow=1, yhigh=6, model=\"\", predicteds=False, onsame=False, axis=False):\n",
    "    \"\"\"\n",
    "    plot predicted results against actual results. Takes 2 arguments: a\n",
    "    numpy array of actual ratings and a numpy array of predicted ratings\n",
    "    scatterplots the predictions, a unit slope line, line segments joining the mean,\n",
    "    and a filled in area of the standard deviations.\"\n",
    "    \"\"\"\n",
    "    if onsame:\n",
    "        ax = onsame\n",
    "    elif axis:\n",
    "        ax = axis\n",
    "    else:\n",
    "        fig = plt.figure()\n",
    "        ax = plt.gca()\n",
    "    df = pd.DataFrame(dict(actual = scores_actual, predicted = scores_predicted))\n",
    "    xp = []\n",
    "    yp = []\n",
    "    for k,v in df.groupby('actual'):\n",
    "        xp.append(k)\n",
    "        yp.append(v.predicted.mean())        \n",
    "    \n",
    "    cl, = ax.plot(xp, yp, 's-', label = \"means for %s\" % model)\n",
    "    c = cl.get_color()\n",
    "\n",
    "    sig = df.groupby('actual').predicted.std().values\n",
    "    ax.fill_between(xp, yp - sig, yp + sig, \n",
    "                 color = c, alpha = 0.2)\n",
    "    if predicteds:\n",
    "        ax.plot(df.actual, df.predicted, '.', color = c, alpha = 0.1, label = \"predicted for %s\" % model)\n",
    "\n",
    "    if not onsame:\n",
    "        ax.plot([1,5],[1,5], 'k', label = \"slope 1\")\n",
    "        ax.set_xlabel(\"actual\")\n",
    "        ax.set_ylabel(\"predicted\")\n",
    "        ax.set_ylim([ylow,yhigh])\n",
    "        ax.set_xlim([0.9, 5.1])\n",
    "    ax.legend(frameon = False, loc = \"upper left\")\n",
    "    rmse = get_rmse(scores_actual, scores_predicted)\n",
    "    print \"RMSE for %s\" % model, rmse\n",
    "    return ax, rmse"
   ]
  },
  {
   "cell_type": "code",
   "execution_count": 72,
   "metadata": {
    "collapsed": false
   },
   "outputs": [
    {
     "name": "stdout",
     "output_type": "stream",
     "text": [
      "RMSE for baseline 61.5805111626\n"
     ]
    },
    {
     "data": {
      "text/plain": [
       "(<matplotlib.axes._subplots.AxesSubplot at 0x10bf65e50>, 61.580511162597531)"
      ]
     },
     "execution_count": 72,
     "metadata": {},
     "output_type": "execute_result"
    },
    {
     "data": {
      "image/png": "[encoded data removed]",
      "text/plain": [
       "<matplotlib.figure.Figure at 0x10bf54450>"
      ]
     },
     "metadata": {},
     "output_type": "display_data"
    }
   ],
   "source": [
    "compare_results(y_test, y_ols_pred, model=\"baseline\", predicteds=True)"
   ]
  }
 ],
 "metadata": {
  "kernelspec": {
   "display_name": "Python 2",
   "language": "python",
   "name": "python2"
  },
  "language_info": {
   "codemirror_mode": {
    "name": "ipython",
    "version": 2
   },
   "file_extension": ".py",
   "mimetype": "text/x-python",
   "name": "python",
   "nbconvert_exporter": "python",
   "pygments_lexer": "ipython2",
   "version": "2.7.10"
  }
 },
 "nbformat": 4,
 "nbformat_minor": 0
}
