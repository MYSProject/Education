{
 "cells": [
  {
   "cell_type": "code",
   "execution_count": 179,
   "metadata": {
    "collapsed": true
   },
   "outputs": [],
   "source": [
    "%matplotlib inline\n",
    "import numpy as np\n",
    "import scipy as sp\n",
    "import matplotlib as mpl\n",
    "import matplotlib.cm as cm\n",
    "import matplotlib.pyplot as plt\n",
    "import pandas as pd\n",
    "pd.set_option('display.width', 500)\n",
    "pd.set_option('display.max_columns', 100)\n",
    "pd.set_option('display.notebook_repr_html', True)\n",
    "import seaborn as sns\n",
    "sns.set_style(\"whitegrid\")\n",
    "sns.set_context(\"poster\")\n",
    "import statsmodels.api as sm"
   ]
  },
  {
   "cell_type": "code",
   "execution_count": 180,
   "metadata": {
    "collapsed": false
   },
   "outputs": [],
   "source": [
    "mergedf = pd.read_csv(\"mergedfupdate_new.csv\")\n",
    "# print mergedf.shape\n",
    "# mergedf.columns = ['DBN', 'Grade', 'Year', 'Number_Tested', 'Mean_Scale_Score', 'Num_Level1', 'Pct_Level1', 'Num_Level2', 'Pct_Level2', 'Num_Level3', 'Pct_Level3', 'Num_Level4', 'Pct_Level4', 'Num_Level3_and4', 'Pct_Level3_and4', 'School_Type', 'School_Name_x', 'Borough', 'Program_Type', 'Average_Class_Size', 'School_Name_y', 'Female_Percentage', 'Male_Percentage', 'Asian_Percentage', 'Black_Percentage', 'Hispanic_Percentage', 'Other_Percentage', 'White_Percentage', 'Avg_Major_N', 'Avg_No_Crim_N', 'Avg_Vio_N', 'School_Name', 'Eng_p_11', 'Aca_p_11', 'Eng_t_11', 'Aca_t_11', 'Eng_s_11', 'Aca_s_11', 'Funding']\n",
    "# print mergedf.shape"
   ]
  },
  {
   "cell_type": "code",
   "execution_count": 181,
   "metadata": {
    "collapsed": false
   },
   "outputs": [
    {
     "data": {
      "text/plain": [
       "(6041, 39)"
      ]
     },
     "execution_count": 181,
     "metadata": {},
     "output_type": "execute_result"
    }
   ],
   "source": [
    "mergedf =  mergedf[mergedf[\"Funding\"] != 0]\n",
    "mergedf.shape"
   ]
  },
  {
   "cell_type": "code",
   "execution_count": 182,
   "metadata": {
    "collapsed": false
   },
   "outputs": [
    {
     "data": {
      "text/plain": [
       "0       0.443\n",
       "1       0.443\n",
       "2       0.443\n",
       "3       0.443\n",
       "4       0.527\n",
       "5       0.527\n",
       "6       0.527\n",
       "7       0.527\n",
       "8       0.527\n",
       "9       0.467\n",
       "10      0.467\n",
       "11      0.467\n",
       "12      0.467\n",
       "13      0.467\n",
       "14      0.494\n",
       "15      0.494\n",
       "16      0.494\n",
       "17      0.494\n",
       "18      0.494\n",
       "19      0.494\n",
       "20      0.494\n",
       "21      0.494\n",
       "22      0.494\n",
       "23      0.494\n",
       "24      0.494\n",
       "25      0.494\n",
       "26      0.425\n",
       "27      0.425\n",
       "28      0.425\n",
       "29      0.425\n",
       "        ...  \n",
       "6011      NaN\n",
       "6012      NaN\n",
       "6013      NaN\n",
       "6014      NaN\n",
       "6015      NaN\n",
       "6016      NaN\n",
       "6017      NaN\n",
       "6018      NaN\n",
       "6019      NaN\n",
       "6020      NaN\n",
       "6021      NaN\n",
       "6022      NaN\n",
       "6023      NaN\n",
       "6024      NaN\n",
       "6025      NaN\n",
       "6026      NaN\n",
       "6027      NaN\n",
       "6028      NaN\n",
       "6029      NaN\n",
       "6030      NaN\n",
       "6031      NaN\n",
       "6032      NaN\n",
       "6033      NaN\n",
       "6034      NaN\n",
       "6035      NaN\n",
       "6036      NaN\n",
       "6037      NaN\n",
       "6038      NaN\n",
       "6039      NaN\n",
       "6040      NaN\n",
       "Name: Female_Percentage, dtype: float64"
      ]
     },
     "execution_count": 182,
     "metadata": {},
     "output_type": "execute_result"
    }
   ],
   "source": [
    "from sklearn import linear_model\n",
    "import statsmodels.formula.api as sm\n",
    "mergedf[\"Female_Percentage\"]"
   ]
  },
  {
   "cell_type": "code",
   "execution_count": 131,
   "metadata": {
    "collapsed": false
   },
   "outputs": [],
   "source": [
    "counter = 0\n",
    "for i in mergedf.iterrows():\n",
    "    if i[1][\"School_Type\"] == \"Public\":\n",
    "        mergedf.ix[counter, \"School_Type\"] = 1\n",
    "    counter +=1\n",
    "counter1 = 0\n",
    "for i in mergedf.iterrows():\n",
    "    if i[1][\"School_Type\"] == \"Charter\":\n",
    "        mergedf.ix[counter1, \"School_Type\"] = 0\n",
    "    counter1 +=1"
   ]
  },
  {
   "cell_type": "code",
   "execution_count": 113,
   "metadata": {
    "collapsed": false
   },
   "outputs": [
    {
     "data": {
      "text/html": [
       "<div>\n",
       "<table border=\"1\" class=\"dataframe\">\n",
       "  <thead>\n",
       "    <tr style=\"text-align: right;\">\n",
       "      <th></th>\n",
       "      <th>DBN</th>\n",
       "      <th>Grade</th>\n",
       "      <th>Year</th>\n",
       "      <th>Number_Tested</th>\n",
       "      <th>Mean_Scale_Score</th>\n",
       "      <th>Num_Level1</th>\n",
       "      <th>Pct_Level1</th>\n",
       "      <th>Num_Level2</th>\n",
       "      <th>Pct_Level2</th>\n",
       "      <th>Num_Level3</th>\n",
       "      <th>Pct_Level3</th>\n",
       "      <th>Num_Level4</th>\n",
       "      <th>Pct_Level4</th>\n",
       "      <th>Num_Level3_and4</th>\n",
       "      <th>Pct_Level3_and4</th>\n",
       "      <th>School_Type</th>\n",
       "      <th>School_Name_x</th>\n",
       "      <th>Borough</th>\n",
       "      <th>Program_Type</th>\n",
       "      <th>Average_Class_Size</th>\n",
       "      <th>School_Name_y</th>\n",
       "      <th>Female_Percentage</th>\n",
       "      <th>Male_Percentage</th>\n",
       "      <th>Asian_Percentage</th>\n",
       "      <th>Black_Percentage</th>\n",
       "      <th>Hispanic_Percentage</th>\n",
       "      <th>Other_Percentage</th>\n",
       "      <th>White_Percentage</th>\n",
       "      <th>Avg_Major_N</th>\n",
       "      <th>Avg_No_Crim_N</th>\n",
       "      <th>Avg_Vio_N</th>\n",
       "      <th>School_Name</th>\n",
       "      <th>Eng_p_11</th>\n",
       "      <th>Aca_p_11</th>\n",
       "      <th>Eng_t_11</th>\n",
       "      <th>Aca_t_11</th>\n",
       "      <th>Eng_s_11</th>\n",
       "      <th>Aca_s_11</th>\n",
       "      <th>Funding</th>\n",
       "    </tr>\n",
       "  </thead>\n",
       "  <tbody>\n",
       "    <tr>\n",
       "      <th>0</th>\n",
       "      <td>01M015</td>\n",
       "      <td>3</td>\n",
       "      <td>2011</td>\n",
       "      <td>28</td>\n",
       "      <td>671</td>\n",
       "      <td>10</td>\n",
       "      <td>35.7</td>\n",
       "      <td>13</td>\n",
       "      <td>46.4</td>\n",
       "      <td>5</td>\n",
       "      <td>17.9</td>\n",
       "      <td>0</td>\n",
       "      <td>0</td>\n",
       "      <td>5</td>\n",
       "      <td>17.9</td>\n",
       "      <td>1</td>\n",
       "      <td>M</td>\n",
       "      <td>P.S. 015 Roberto Clemente</td>\n",
       "      <td>GEN ED</td>\n",
       "      <td>12.000000</td>\n",
       "      <td>P.S. 015 Roberto Clemente</td>\n",
       "      <td>0.443</td>\n",
       "      <td>0.557</td>\n",
       "      <td>0.064</td>\n",
       "      <td>0.369</td>\n",
       "      <td>0.542</td>\n",
       "      <td>0.005</td>\n",
       "      <td>0.020</td>\n",
       "      <td>0.43</td>\n",
       "      <td>1.23000</td>\n",
       "      <td>0.41</td>\n",
       "      <td>P.S. 015 Roberto Clemente</td>\n",
       "      <td>7.5</td>\n",
       "      <td>7.8</td>\n",
       "      <td>7.6</td>\n",
       "      <td>7.9</td>\n",
       "      <td>NaN</td>\n",
       "      <td>NaN</td>\n",
       "      <td>1560936</td>\n",
       "    </tr>\n",
       "    <tr>\n",
       "      <th>1</th>\n",
       "      <td>01M015</td>\n",
       "      <td>4</td>\n",
       "      <td>2011</td>\n",
       "      <td>28</td>\n",
       "      <td>668</td>\n",
       "      <td>3</td>\n",
       "      <td>10.7</td>\n",
       "      <td>14</td>\n",
       "      <td>50</td>\n",
       "      <td>9</td>\n",
       "      <td>32.1</td>\n",
       "      <td>2</td>\n",
       "      <td>7.1</td>\n",
       "      <td>11</td>\n",
       "      <td>39.3</td>\n",
       "      <td>1</td>\n",
       "      <td>M</td>\n",
       "      <td>P.S. 015 Roberto Clemente</td>\n",
       "      <td>GEN ED</td>\n",
       "      <td>13.000000</td>\n",
       "      <td>P.S. 015 Roberto Clemente</td>\n",
       "      <td>0.443</td>\n",
       "      <td>0.557</td>\n",
       "      <td>0.064</td>\n",
       "      <td>0.369</td>\n",
       "      <td>0.542</td>\n",
       "      <td>0.005</td>\n",
       "      <td>0.020</td>\n",
       "      <td>0.43</td>\n",
       "      <td>1.23000</td>\n",
       "      <td>0.41</td>\n",
       "      <td>P.S. 015 Roberto Clemente</td>\n",
       "      <td>7.5</td>\n",
       "      <td>7.8</td>\n",
       "      <td>7.6</td>\n",
       "      <td>7.9</td>\n",
       "      <td>NaN</td>\n",
       "      <td>NaN</td>\n",
       "      <td>1560936</td>\n",
       "    </tr>\n",
       "    <tr>\n",
       "      <th>2</th>\n",
       "      <td>01M015</td>\n",
       "      <td>5</td>\n",
       "      <td>2011</td>\n",
       "      <td>25</td>\n",
       "      <td>667</td>\n",
       "      <td>5</td>\n",
       "      <td>20</td>\n",
       "      <td>8</td>\n",
       "      <td>32</td>\n",
       "      <td>12</td>\n",
       "      <td>48</td>\n",
       "      <td>0</td>\n",
       "      <td>0</td>\n",
       "      <td>12</td>\n",
       "      <td>48</td>\n",
       "      <td>1</td>\n",
       "      <td>M</td>\n",
       "      <td>P.S. 015 Roberto Clemente</td>\n",
       "      <td>GEN ED</td>\n",
       "      <td>27.000000</td>\n",
       "      <td>P.S. 015 Roberto Clemente</td>\n",
       "      <td>0.443</td>\n",
       "      <td>0.557</td>\n",
       "      <td>0.064</td>\n",
       "      <td>0.369</td>\n",
       "      <td>0.542</td>\n",
       "      <td>0.005</td>\n",
       "      <td>0.020</td>\n",
       "      <td>0.43</td>\n",
       "      <td>1.23000</td>\n",
       "      <td>0.41</td>\n",
       "      <td>P.S. 015 Roberto Clemente</td>\n",
       "      <td>7.5</td>\n",
       "      <td>7.8</td>\n",
       "      <td>7.6</td>\n",
       "      <td>7.9</td>\n",
       "      <td>NaN</td>\n",
       "      <td>NaN</td>\n",
       "      <td>1560936</td>\n",
       "    </tr>\n",
       "    <tr>\n",
       "      <th>3</th>\n",
       "      <td>01M015</td>\n",
       "      <td>All Grades</td>\n",
       "      <td>2011</td>\n",
       "      <td>81</td>\n",
       "      <td>669</td>\n",
       "      <td>18</td>\n",
       "      <td>22.2</td>\n",
       "      <td>35</td>\n",
       "      <td>43.2</td>\n",
       "      <td>26</td>\n",
       "      <td>32.1</td>\n",
       "      <td>2</td>\n",
       "      <td>2.5</td>\n",
       "      <td>28</td>\n",
       "      <td>34.6</td>\n",
       "      <td>1</td>\n",
       "      <td>NaN</td>\n",
       "      <td>NaN</td>\n",
       "      <td>NaN</td>\n",
       "      <td>21.780762</td>\n",
       "      <td>P.S. 015 Roberto Clemente</td>\n",
       "      <td>0.443</td>\n",
       "      <td>0.557</td>\n",
       "      <td>0.064</td>\n",
       "      <td>0.369</td>\n",
       "      <td>0.542</td>\n",
       "      <td>0.005</td>\n",
       "      <td>0.020</td>\n",
       "      <td>0.43</td>\n",
       "      <td>1.23000</td>\n",
       "      <td>0.41</td>\n",
       "      <td>P.S. 015 Roberto Clemente</td>\n",
       "      <td>7.5</td>\n",
       "      <td>7.8</td>\n",
       "      <td>7.6</td>\n",
       "      <td>7.9</td>\n",
       "      <td>NaN</td>\n",
       "      <td>NaN</td>\n",
       "      <td>1560936</td>\n",
       "    </tr>\n",
       "    <tr>\n",
       "      <th>4</th>\n",
       "      <td>01M019</td>\n",
       "      <td>3</td>\n",
       "      <td>2011</td>\n",
       "      <td>34</td>\n",
       "      <td>679</td>\n",
       "      <td>2</td>\n",
       "      <td>5.9</td>\n",
       "      <td>23</td>\n",
       "      <td>67.6</td>\n",
       "      <td>7</td>\n",
       "      <td>20.6</td>\n",
       "      <td>2</td>\n",
       "      <td>5.9</td>\n",
       "      <td>9</td>\n",
       "      <td>26.5</td>\n",
       "      <td>1</td>\n",
       "      <td>M</td>\n",
       "      <td>P.S. 019 Asher Levy</td>\n",
       "      <td>GEN ED</td>\n",
       "      <td>17.500000</td>\n",
       "      <td>P.S. 019 Asher Levy</td>\n",
       "      <td>0.527</td>\n",
       "      <td>0.473</td>\n",
       "      <td>0.146</td>\n",
       "      <td>0.271</td>\n",
       "      <td>0.473</td>\n",
       "      <td>0.015</td>\n",
       "      <td>0.095</td>\n",
       "      <td>NaN</td>\n",
       "      <td>2.44093</td>\n",
       "      <td>NaN</td>\n",
       "      <td>P.S. 019 Asher Levy</td>\n",
       "      <td>7.6</td>\n",
       "      <td>7.8</td>\n",
       "      <td>8.9</td>\n",
       "      <td>9.1</td>\n",
       "      <td>NaN</td>\n",
       "      <td>NaN</td>\n",
       "      <td>1801509</td>\n",
       "    </tr>\n",
       "  </tbody>\n",
       "</table>\n",
       "</div>"
      ],
      "text/plain": [
       "      DBN       Grade  Year  Number_Tested  Mean_Scale_Score Num_Level1 Pct_Level1 Num_Level2 Pct_Level2 Num_Level3 Pct_Level3 Num_Level4 Pct_Level4 Num_Level3_and4 Pct_Level3_and4 School_Type School_Name_x                    Borough Program_Type  Average_Class_Size              School_Name_y  Female_Percentage  Male_Percentage  Asian_Percentage  Black_Percentage  Hispanic_Percentage  Other_Percentage  White_Percentage  Avg_Major_N  Avg_No_Crim_N  Avg_Vio_N                School_Name  \\\n",
       "0  01M015           3  2011             28               671         10       35.7         13       46.4          5       17.9          0          0               5            17.9           1             M  P.S. 015 Roberto Clemente       GEN ED           12.000000  P.S. 015 Roberto Clemente              0.443            0.557             0.064             0.369                0.542             0.005             0.020         0.43        1.23000       0.41  P.S. 015 Roberto Clemente   \n",
       "1  01M015           4  2011             28               668          3       10.7         14         50          9       32.1          2        7.1              11            39.3           1             M  P.S. 015 Roberto Clemente       GEN ED           13.000000  P.S. 015 Roberto Clemente              0.443            0.557             0.064             0.369                0.542             0.005             0.020         0.43        1.23000       0.41  P.S. 015 Roberto Clemente   \n",
       "2  01M015           5  2011             25               667          5         20          8         32         12         48          0          0              12              48           1             M  P.S. 015 Roberto Clemente       GEN ED           27.000000  P.S. 015 Roberto Clemente              0.443            0.557             0.064             0.369                0.542             0.005             0.020         0.43        1.23000       0.41  P.S. 015 Roberto Clemente   \n",
       "3  01M015  All Grades  2011             81               669         18       22.2         35       43.2         26       32.1          2        2.5              28            34.6           1           NaN                        NaN          NaN           21.780762  P.S. 015 Roberto Clemente              0.443            0.557             0.064             0.369                0.542             0.005             0.020         0.43        1.23000       0.41  P.S. 015 Roberto Clemente   \n",
       "4  01M019           3  2011             34               679          2        5.9         23       67.6          7       20.6          2        5.9               9            26.5           1             M        P.S. 019 Asher Levy       GEN ED           17.500000        P.S. 019 Asher Levy              0.527            0.473             0.146             0.271                0.473             0.015             0.095          NaN        2.44093        NaN        P.S. 019 Asher Levy   \n",
       "\n",
       "   Eng_p_11  Aca_p_11  Eng_t_11  Aca_t_11  Eng_s_11  Aca_s_11  Funding  \n",
       "0       7.5       7.8       7.6       7.9       NaN       NaN  1560936  \n",
       "1       7.5       7.8       7.6       7.9       NaN       NaN  1560936  \n",
       "2       7.5       7.8       7.6       7.9       NaN       NaN  1560936  \n",
       "3       7.5       7.8       7.6       7.9       NaN       NaN  1560936  \n",
       "4       7.6       7.8       8.9       9.1       NaN       NaN  1801509  "
      ]
     },
     "execution_count": 113,
     "metadata": {},
     "output_type": "execute_result"
    }
   ],
   "source": [
    "mergedf.head()"
   ]
  },
  {
   "cell_type": "code",
   "execution_count": 114,
   "metadata": {
    "collapsed": false
   },
   "outputs": [
    {
     "data": {
      "text/html": [
       "<div>\n",
       "<table border=\"1\" class=\"dataframe\">\n",
       "  <thead>\n",
       "    <tr style=\"text-align: right;\">\n",
       "      <th></th>\n",
       "      <th>DBN</th>\n",
       "      <th>Grade</th>\n",
       "      <th>Year</th>\n",
       "      <th>Number_Tested</th>\n",
       "      <th>Mean_Scale_Score</th>\n",
       "      <th>Num_Level1</th>\n",
       "      <th>Pct_Level1</th>\n",
       "      <th>Num_Level2</th>\n",
       "      <th>Pct_Level2</th>\n",
       "      <th>Num_Level3</th>\n",
       "      <th>Pct_Level3</th>\n",
       "      <th>Num_Level4</th>\n",
       "      <th>Pct_Level4</th>\n",
       "      <th>Num_Level3_and4</th>\n",
       "      <th>Pct_Level3_and4</th>\n",
       "      <th>School_Type</th>\n",
       "      <th>School_Name_x</th>\n",
       "      <th>Borough</th>\n",
       "      <th>Program_Type</th>\n",
       "      <th>Average_Class_Size</th>\n",
       "      <th>School_Name_y</th>\n",
       "      <th>Female_Percentage</th>\n",
       "      <th>Male_Percentage</th>\n",
       "      <th>Asian_Percentage</th>\n",
       "      <th>Black_Percentage</th>\n",
       "      <th>Hispanic_Percentage</th>\n",
       "      <th>Other_Percentage</th>\n",
       "      <th>White_Percentage</th>\n",
       "      <th>Avg_Major_N</th>\n",
       "      <th>Avg_No_Crim_N</th>\n",
       "      <th>Avg_Vio_N</th>\n",
       "      <th>School_Name</th>\n",
       "      <th>Eng_p_11</th>\n",
       "      <th>Aca_p_11</th>\n",
       "      <th>Eng_t_11</th>\n",
       "      <th>Aca_t_11</th>\n",
       "      <th>Eng_s_11</th>\n",
       "      <th>Aca_s_11</th>\n",
       "      <th>Funding</th>\n",
       "    </tr>\n",
       "  </thead>\n",
       "  <tbody>\n",
       "    <tr>\n",
       "      <th>0</th>\n",
       "      <td>01M015</td>\n",
       "      <td>3</td>\n",
       "      <td>2011</td>\n",
       "      <td>28</td>\n",
       "      <td>671</td>\n",
       "      <td>10</td>\n",
       "      <td>35.7</td>\n",
       "      <td>13</td>\n",
       "      <td>46.4</td>\n",
       "      <td>5</td>\n",
       "      <td>17.9</td>\n",
       "      <td>0</td>\n",
       "      <td>0</td>\n",
       "      <td>5</td>\n",
       "      <td>17.9</td>\n",
       "      <td>1</td>\n",
       "      <td>M</td>\n",
       "      <td>P.S. 015 Roberto Clemente</td>\n",
       "      <td>GEN ED</td>\n",
       "      <td>12.000000</td>\n",
       "      <td>P.S. 015 Roberto Clemente</td>\n",
       "      <td>0.443</td>\n",
       "      <td>0.557</td>\n",
       "      <td>0.064</td>\n",
       "      <td>0.369</td>\n",
       "      <td>0.542</td>\n",
       "      <td>0.005</td>\n",
       "      <td>0.020</td>\n",
       "      <td>0.43</td>\n",
       "      <td>1.23000</td>\n",
       "      <td>0.41</td>\n",
       "      <td>P.S. 015 Roberto Clemente</td>\n",
       "      <td>7.5</td>\n",
       "      <td>7.8</td>\n",
       "      <td>7.6</td>\n",
       "      <td>7.9</td>\n",
       "      <td>NaN</td>\n",
       "      <td>NaN</td>\n",
       "      <td>1560936</td>\n",
       "    </tr>\n",
       "    <tr>\n",
       "      <th>1</th>\n",
       "      <td>01M015</td>\n",
       "      <td>4</td>\n",
       "      <td>2011</td>\n",
       "      <td>28</td>\n",
       "      <td>668</td>\n",
       "      <td>3</td>\n",
       "      <td>10.7</td>\n",
       "      <td>14</td>\n",
       "      <td>50</td>\n",
       "      <td>9</td>\n",
       "      <td>32.1</td>\n",
       "      <td>2</td>\n",
       "      <td>7.1</td>\n",
       "      <td>11</td>\n",
       "      <td>39.3</td>\n",
       "      <td>1</td>\n",
       "      <td>M</td>\n",
       "      <td>P.S. 015 Roberto Clemente</td>\n",
       "      <td>GEN ED</td>\n",
       "      <td>13.000000</td>\n",
       "      <td>P.S. 015 Roberto Clemente</td>\n",
       "      <td>0.443</td>\n",
       "      <td>0.557</td>\n",
       "      <td>0.064</td>\n",
       "      <td>0.369</td>\n",
       "      <td>0.542</td>\n",
       "      <td>0.005</td>\n",
       "      <td>0.020</td>\n",
       "      <td>0.43</td>\n",
       "      <td>1.23000</td>\n",
       "      <td>0.41</td>\n",
       "      <td>P.S. 015 Roberto Clemente</td>\n",
       "      <td>7.5</td>\n",
       "      <td>7.8</td>\n",
       "      <td>7.6</td>\n",
       "      <td>7.9</td>\n",
       "      <td>NaN</td>\n",
       "      <td>NaN</td>\n",
       "      <td>1560936</td>\n",
       "    </tr>\n",
       "    <tr>\n",
       "      <th>2</th>\n",
       "      <td>01M015</td>\n",
       "      <td>5</td>\n",
       "      <td>2011</td>\n",
       "      <td>25</td>\n",
       "      <td>667</td>\n",
       "      <td>5</td>\n",
       "      <td>20</td>\n",
       "      <td>8</td>\n",
       "      <td>32</td>\n",
       "      <td>12</td>\n",
       "      <td>48</td>\n",
       "      <td>0</td>\n",
       "      <td>0</td>\n",
       "      <td>12</td>\n",
       "      <td>48</td>\n",
       "      <td>1</td>\n",
       "      <td>M</td>\n",
       "      <td>P.S. 015 Roberto Clemente</td>\n",
       "      <td>GEN ED</td>\n",
       "      <td>27.000000</td>\n",
       "      <td>P.S. 015 Roberto Clemente</td>\n",
       "      <td>0.443</td>\n",
       "      <td>0.557</td>\n",
       "      <td>0.064</td>\n",
       "      <td>0.369</td>\n",
       "      <td>0.542</td>\n",
       "      <td>0.005</td>\n",
       "      <td>0.020</td>\n",
       "      <td>0.43</td>\n",
       "      <td>1.23000</td>\n",
       "      <td>0.41</td>\n",
       "      <td>P.S. 015 Roberto Clemente</td>\n",
       "      <td>7.5</td>\n",
       "      <td>7.8</td>\n",
       "      <td>7.6</td>\n",
       "      <td>7.9</td>\n",
       "      <td>NaN</td>\n",
       "      <td>NaN</td>\n",
       "      <td>1560936</td>\n",
       "    </tr>\n",
       "    <tr>\n",
       "      <th>3</th>\n",
       "      <td>01M015</td>\n",
       "      <td>All Grades</td>\n",
       "      <td>2011</td>\n",
       "      <td>81</td>\n",
       "      <td>669</td>\n",
       "      <td>18</td>\n",
       "      <td>22.2</td>\n",
       "      <td>35</td>\n",
       "      <td>43.2</td>\n",
       "      <td>26</td>\n",
       "      <td>32.1</td>\n",
       "      <td>2</td>\n",
       "      <td>2.5</td>\n",
       "      <td>28</td>\n",
       "      <td>34.6</td>\n",
       "      <td>1</td>\n",
       "      <td>NaN</td>\n",
       "      <td>NaN</td>\n",
       "      <td>NaN</td>\n",
       "      <td>21.780762</td>\n",
       "      <td>P.S. 015 Roberto Clemente</td>\n",
       "      <td>0.443</td>\n",
       "      <td>0.557</td>\n",
       "      <td>0.064</td>\n",
       "      <td>0.369</td>\n",
       "      <td>0.542</td>\n",
       "      <td>0.005</td>\n",
       "      <td>0.020</td>\n",
       "      <td>0.43</td>\n",
       "      <td>1.23000</td>\n",
       "      <td>0.41</td>\n",
       "      <td>P.S. 015 Roberto Clemente</td>\n",
       "      <td>7.5</td>\n",
       "      <td>7.8</td>\n",
       "      <td>7.6</td>\n",
       "      <td>7.9</td>\n",
       "      <td>NaN</td>\n",
       "      <td>NaN</td>\n",
       "      <td>1560936</td>\n",
       "    </tr>\n",
       "    <tr>\n",
       "      <th>4</th>\n",
       "      <td>01M019</td>\n",
       "      <td>3</td>\n",
       "      <td>2011</td>\n",
       "      <td>34</td>\n",
       "      <td>679</td>\n",
       "      <td>2</td>\n",
       "      <td>5.9</td>\n",
       "      <td>23</td>\n",
       "      <td>67.6</td>\n",
       "      <td>7</td>\n",
       "      <td>20.6</td>\n",
       "      <td>2</td>\n",
       "      <td>5.9</td>\n",
       "      <td>9</td>\n",
       "      <td>26.5</td>\n",
       "      <td>1</td>\n",
       "      <td>M</td>\n",
       "      <td>P.S. 019 Asher Levy</td>\n",
       "      <td>GEN ED</td>\n",
       "      <td>17.500000</td>\n",
       "      <td>P.S. 019 Asher Levy</td>\n",
       "      <td>0.527</td>\n",
       "      <td>0.473</td>\n",
       "      <td>0.146</td>\n",
       "      <td>0.271</td>\n",
       "      <td>0.473</td>\n",
       "      <td>0.015</td>\n",
       "      <td>0.095</td>\n",
       "      <td>NaN</td>\n",
       "      <td>2.44093</td>\n",
       "      <td>NaN</td>\n",
       "      <td>P.S. 019 Asher Levy</td>\n",
       "      <td>7.6</td>\n",
       "      <td>7.8</td>\n",
       "      <td>8.9</td>\n",
       "      <td>9.1</td>\n",
       "      <td>NaN</td>\n",
       "      <td>NaN</td>\n",
       "      <td>1801509</td>\n",
       "    </tr>\n",
       "  </tbody>\n",
       "</table>\n",
       "</div>"
      ],
      "text/plain": [
       "      DBN       Grade  Year  Number_Tested  Mean_Scale_Score Num_Level1 Pct_Level1 Num_Level2 Pct_Level2 Num_Level3 Pct_Level3 Num_Level4 Pct_Level4 Num_Level3_and4 Pct_Level3_and4 School_Type School_Name_x                    Borough Program_Type  Average_Class_Size              School_Name_y  Female_Percentage  Male_Percentage  Asian_Percentage  Black_Percentage  Hispanic_Percentage  Other_Percentage  White_Percentage  Avg_Major_N  Avg_No_Crim_N  Avg_Vio_N                School_Name  \\\n",
       "0  01M015           3  2011             28               671         10       35.7         13       46.4          5       17.9          0          0               5            17.9           1             M  P.S. 015 Roberto Clemente       GEN ED           12.000000  P.S. 015 Roberto Clemente              0.443            0.557             0.064             0.369                0.542             0.005             0.020         0.43        1.23000       0.41  P.S. 015 Roberto Clemente   \n",
       "1  01M015           4  2011             28               668          3       10.7         14         50          9       32.1          2        7.1              11            39.3           1             M  P.S. 015 Roberto Clemente       GEN ED           13.000000  P.S. 015 Roberto Clemente              0.443            0.557             0.064             0.369                0.542             0.005             0.020         0.43        1.23000       0.41  P.S. 015 Roberto Clemente   \n",
       "2  01M015           5  2011             25               667          5         20          8         32         12         48          0          0              12              48           1             M  P.S. 015 Roberto Clemente       GEN ED           27.000000  P.S. 015 Roberto Clemente              0.443            0.557             0.064             0.369                0.542             0.005             0.020         0.43        1.23000       0.41  P.S. 015 Roberto Clemente   \n",
       "3  01M015  All Grades  2011             81               669         18       22.2         35       43.2         26       32.1          2        2.5              28            34.6           1           NaN                        NaN          NaN           21.780762  P.S. 015 Roberto Clemente              0.443            0.557             0.064             0.369                0.542             0.005             0.020         0.43        1.23000       0.41  P.S. 015 Roberto Clemente   \n",
       "4  01M019           3  2011             34               679          2        5.9         23       67.6          7       20.6          2        5.9               9            26.5           1             M        P.S. 019 Asher Levy       GEN ED           17.500000        P.S. 019 Asher Levy              0.527            0.473             0.146             0.271                0.473             0.015             0.095          NaN        2.44093        NaN        P.S. 019 Asher Levy   \n",
       "\n",
       "   Eng_p_11  Aca_p_11  Eng_t_11  Aca_t_11  Eng_s_11  Aca_s_11  Funding  \n",
       "0       7.5       7.8       7.6       7.9       NaN       NaN  1560936  \n",
       "1       7.5       7.8       7.6       7.9       NaN       NaN  1560936  \n",
       "2       7.5       7.8       7.6       7.9       NaN       NaN  1560936  \n",
       "3       7.5       7.8       7.6       7.9       NaN       NaN  1560936  \n",
       "4       7.6       7.8       8.9       9.1       NaN       NaN  1801509  "
      ]
     },
     "execution_count": 114,
     "metadata": {},
     "output_type": "execute_result"
    }
   ],
   "source": [
    "mergedf.head()"
   ]
  },
  {
   "cell_type": "code",
   "execution_count": 115,
   "metadata": {
    "collapsed": false,
    "scrolled": true
   },
   "outputs": [
    {
     "ename": "TypeError",
     "evalue": "corrcoef() takes at most 5 arguments (10 given)",
     "output_type": "error",
     "traceback": [
      "\u001b[0;31m---------------------------------------------------------------------------\u001b[0m",
      "\u001b[0;31mTypeError\u001b[0m                                 Traceback (most recent call last)",
      "\u001b[0;32m<ipython-input-115-48e728edc397>\u001b[0m in \u001b[0;36m<module>\u001b[0;34m()\u001b[0m\n\u001b[0;32m----> 1\u001b[0;31m \u001b[0mnp\u001b[0m\u001b[0;34m.\u001b[0m\u001b[0mcorrcoef\u001b[0m\u001b[0;34m(\u001b[0m\u001b[0mmergedf\u001b[0m\u001b[0;34m[\u001b[0m\u001b[0;34m\"Funding\"\u001b[0m\u001b[0;34m]\u001b[0m\u001b[0;34m,\u001b[0m \u001b[0mmergedf\u001b[0m\u001b[0;34m[\u001b[0m\u001b[0;34m\"Average_Class_Size\"\u001b[0m\u001b[0;34m]\u001b[0m\u001b[0;34m,\u001b[0m \u001b[0mmergedf\u001b[0m\u001b[0;34m[\u001b[0m\u001b[0;34m\"Mean_Scale_Score\"\u001b[0m\u001b[0;34m]\u001b[0m\u001b[0;34m,\u001b[0m \u001b[0mmergedf\u001b[0m\u001b[0;34m[\u001b[0m\u001b[0;34m\"Avg_No_Crim_N\"\u001b[0m\u001b[0;34m]\u001b[0m\u001b[0;34m,\u001b[0m \u001b[0mmergedf\u001b[0m\u001b[0;34m[\u001b[0m\u001b[0;34m\"School_Type\"\u001b[0m\u001b[0;34m]\u001b[0m\u001b[0;34m,\u001b[0m\u001b[0mmergedf\u001b[0m\u001b[0;34m[\u001b[0m\u001b[0;34m\"School_Type\"\u001b[0m\u001b[0;34m]\u001b[0m\u001b[0;34m,\u001b[0m \u001b[0mmergedf\u001b[0m\u001b[0;34m[\u001b[0m\u001b[0;34m\"Female_Percentage\"\u001b[0m\u001b[0;34m]\u001b[0m\u001b[0;34m,\u001b[0m \u001b[0mmergedf\u001b[0m\u001b[0;34m[\u001b[0m\u001b[0;34m\"Asian_Percentage\"\u001b[0m\u001b[0;34m]\u001b[0m\u001b[0;34m,\u001b[0m \u001b[0mmergedf\u001b[0m\u001b[0;34m[\u001b[0m\u001b[0;34m\"Black_Percentage\"\u001b[0m\u001b[0;34m]\u001b[0m\u001b[0;34m,\u001b[0m \u001b[0mmergedf\u001b[0m\u001b[0;34m[\u001b[0m\u001b[0;34m\"Hispanic_Percentage\"\u001b[0m\u001b[0;34m]\u001b[0m \u001b[0;34m)\u001b[0m\u001b[0;34m\u001b[0m\u001b[0m\n\u001b[0m",
      "\u001b[0;31mTypeError\u001b[0m: corrcoef() takes at most 5 arguments (10 given)"
     ]
    }
   ],
   "source": [
    "np.corrcoef(mergedf[\"Funding\"], mergedf[\"Average_Class_Size\"], mergedf[\"Mean_Scale_Score\"], mergedf[\"Avg_No_Crim_N\"], mergedf[\"School_Type\"],mergedf[\"School_Type\"], mergedf[\"Female_Percentage\"], mergedf[\"Asian_Percentage\"], mergedf[\"Black_Percentage\"], mergedf[\"Hispanic_Percentage\"] )"
   ]
  },
  {
   "cell_type": "code",
   "execution_count": 132,
   "metadata": {
    "collapsed": false
   },
   "outputs": [
    {
     "data": {
      "image/png": "[encoded data removed]",
      "text/plain": [
       "<matplotlib.figure.Figure at 0x11052b210>"
      ]
     },
     "metadata": {},
     "output_type": "display_data"
    }
   ],
   "source": [
    "def plot_corr(df,size=10):\n",
    "    '''Function plots a graphical correlation matrix for each pair of columns in the dataframe.\n",
    "\n",
    "    Input:\n",
    "        df: pandas DataFrame\n",
    "        size: vertical and horizontal size of the plot'''\n",
    "\n",
    "    corr = df.corr()\n",
    "    fig, ax = plt.subplots(figsize=(size, size))\n",
    "    ax.matshow(corr)\n",
    "    plt.xticks(range(len(corr.columns)), corr.columns, rotation=70);\n",
    "    plt.yticks(range(len(corr.columns)), corr.columns);\n",
    "plot_corr(mergedf)\n"
   ]
  },
  {
   "cell_type": "code",
   "execution_count": 117,
   "metadata": {
    "collapsed": false
   },
   "outputs": [],
   "source": [
    "# mergedf.corr()"
   ]
  },
  {
   "cell_type": "code",
   "execution_count": 118,
   "metadata": {
    "collapsed": false
   },
   "outputs": [
    {
     "data": {
      "text/plain": [
       "759.0"
      ]
     },
     "execution_count": 118,
     "metadata": {},
     "output_type": "execute_result"
    }
   ],
   "source": [
    "np.max(mergedf[\"Mean_Scale_Score\"])"
   ]
  },
  {
   "cell_type": "code",
   "execution_count": 133,
   "metadata": {
    "collapsed": false,
    "scrolled": false
   },
   "outputs": [
    {
     "name": "stdout",
     "output_type": "stream",
     "text": [
      "                            OLS Regression Results                            \n",
      "==============================================================================\n",
      "Dep. Variable:       Mean_Scale_Score   R-squared:                       0.539\n",
      "Model:                            OLS   Adj. R-squared:                  0.538\n",
      "Method:                 Least Squares   F-statistic:                     766.8\n",
      "Date:                Wed, 02 Dec 2015   Prob (F-statistic):               0.00\n",
      "Time:                        16:22:44   Log-Likelihood:                -22881.\n",
      "No. Observations:                5912   AIC:                         4.578e+04\n",
      "Df Residuals:                    5902   BIC:                         4.585e+04\n",
      "Df Model:                           9                                         \n",
      "Covariance Type:            nonrobust                                         \n",
      "=========================================================================================\n",
      "                            coef    std err          t      P>|t|      [95.0% Conf. Int.]\n",
      "-----------------------------------------------------------------------------------------\n",
      "Intercept               699.2868     11.034     63.374      0.000       677.655   720.918\n",
      "School_Type[T.Public]     4.6188      1.693      2.728      0.006         1.299     7.938\n",
      "np.log(Funding)           0.3834      0.408      0.941      0.347        -0.415     1.182\n",
      "Average_Class_Size        0.1539      0.037      4.173      0.000         0.082     0.226\n",
      "Avg_No_Crim_N             0.2037      0.152      1.342      0.180        -0.094     0.501\n",
      "Female_Percentage        42.3165      2.668     15.862      0.000        37.087    47.546\n",
      "Asian_Percentage        -18.7804      9.781     -1.920      0.055       -37.956     0.395\n",
      "Black_Percentage        -60.5481      9.778     -6.192      0.000       -79.717   -41.379\n",
      "Hispanic_Percentage     -62.3626      9.727     -6.411      0.000       -81.431   -43.294\n",
      "White_Percentage        -19.4684      9.955     -1.956      0.051       -38.985     0.048\n",
      "==============================================================================\n",
      "Omnibus:                       19.916   Durbin-Watson:                   0.528\n",
      "Prob(Omnibus):                  0.000   Jarque-Bera (JB):               20.030\n",
      "Skew:                           0.142   Prob(JB):                     4.47e-05\n",
      "Kurtosis:                       3.023   Cond. No.                     3.87e+03\n",
      "==============================================================================\n",
      "\n",
      "Warnings:\n",
      "[1] Standard Errors assume that the covariance matrix of the errors is correctly specified.\n",
      "[2] The condition number is large, 3.87e+03. This might indicate that there are\n",
      "strong multicollinearity or other numerical problems.\n",
      "                            OLS Regression Results                            \n",
      "==============================================================================\n",
      "Dep. Variable:       Mean_Scale_Score   R-squared:                       0.522\n",
      "Model:                            OLS   Adj. R-squared:                  0.522\n",
      "Method:                 Least Squares   F-statistic:                     937.2\n",
      "Date:                Wed, 02 Dec 2015   Prob (F-statistic):               0.00\n",
      "Time:                        16:22:44   Log-Likelihood:                -23386.\n",
      "No. Observations:                6004   AIC:                         4.679e+04\n",
      "Df Residuals:                    5996   BIC:                         4.684e+04\n",
      "Df Model:                           7                                         \n",
      "Covariance Type:            nonrobust                                         \n",
      "=========================================================================================\n",
      "                            coef    std err          t      P>|t|      [95.0% Conf. Int.]\n",
      "-----------------------------------------------------------------------------------------\n",
      "Intercept               672.4541      6.176    108.888      0.000       660.348   684.561\n",
      "School_Type[T.Public]     2.3480      1.667      1.408      0.159        -0.920     5.616\n",
      "np.log(Funding)           1.1191      0.410      2.729      0.006         0.315     1.923\n",
      "Avg_No_Crim_N             0.0459      0.155      0.296      0.767        -0.258     0.350\n",
      "Female_Percentage        43.2491      2.726     15.865      0.000        37.905    48.593\n",
      "Asian_Percentage         -0.0934      1.361     -0.069      0.945        -2.762     2.575\n",
      "Black_Percentage        -41.6185      0.857    -48.565      0.000       -43.298   -39.939\n",
      "Hispanic_Percentage     -43.4444      0.860    -50.537      0.000       -45.130   -41.759\n",
      "==============================================================================\n",
      "Omnibus:                        9.008   Durbin-Watson:                   0.518\n",
      "Prob(Omnibus):                  0.011   Jarque-Bera (JB):                8.981\n",
      "Skew:                           0.090   Prob(JB):                       0.0112\n",
      "Kurtosis:                       3.062   Cond. No.                         618.\n",
      "==============================================================================\n",
      "\n",
      "Warnings:\n",
      "[1] Standard Errors assume that the covariance matrix of the errors is correctly specified.\n"
     ]
    }
   ],
   "source": [
    "# linear\n",
    "score_model = sm.ols(\"Mean_Scale_Score ~ np.log(Funding) + Average_Class_Size + Avg_No_Crim_N + School_Type + Female_Percentage + Asian_Percentage + Black_Percentage + Hispanic_Percentage + White_Percentage\", data=mergedf, missing='drop').fit()\n",
    "print score_model.summary()\n",
    "# survey_model = sm.ols(\"Aca_t_11 ~ np.log(Funding) + Average_Class_Size + Avg_No_Crim_N + School_Type + Female_Percentage + Asian_Percentage + Black_Percentage + Hispanic_Percentage\", data=mergedf, missing='drop').fit()\n",
    "# print survey_model.summary()\n",
    "score_model2 = sm.ols(\"Mean_Scale_Score ~ np.log(Funding)  + Avg_No_Crim_N + School_Type + Female_Percentage + Asian_Percentage + Black_Percentage + Hispanic_Percentage \", data=mergedf, missing='drop').fit()\n",
    "print score_model2.summary()"
   ]
  },
  {
   "cell_type": "code",
   "execution_count": 120,
   "metadata": {
    "collapsed": false
   },
   "outputs": [
    {
     "data": {
      "text/plain": [
       "Intercept                672.454097\n",
       "School_Type[T.Public]      2.347989\n",
       "np.log(Funding)            1.119116\n",
       "Avg_No_Crim_N              0.045943\n",
       "Female_Percentage         43.249134\n",
       "Asian_Percentage          -0.093382\n",
       "Black_Percentage         -41.618544\n",
       "Hispanic_Percentage      -43.444417\n",
       "dtype: float64"
      ]
     },
     "execution_count": 120,
     "metadata": {},
     "output_type": "execute_result"
    }
   ],
   "source": [
    "score_model2.params"
   ]
  },
  {
   "cell_type": "code",
   "execution_count": 138,
   "metadata": {
    "collapsed": false
   },
   "outputs": [
    {
     "data": {
      "text/plain": [
       "0       0.443\n",
       "1       0.443\n",
       "2       0.443\n",
       "3       0.443\n",
       "4       0.527\n",
       "5       0.527\n",
       "6       0.527\n",
       "7       0.527\n",
       "8       0.527\n",
       "9       0.467\n",
       "10      0.467\n",
       "11      0.467\n",
       "12      0.467\n",
       "13      0.467\n",
       "14      0.494\n",
       "15      0.494\n",
       "16      0.494\n",
       "17      0.494\n",
       "18      0.494\n",
       "19      0.494\n",
       "20      0.494\n",
       "21      0.494\n",
       "22      0.494\n",
       "23      0.494\n",
       "24      0.494\n",
       "25      0.494\n",
       "26      0.425\n",
       "27      0.425\n",
       "28      0.425\n",
       "29      0.425\n",
       "        ...  \n",
       "6667    0.529\n",
       "6668    0.531\n",
       "6669    0.531\n",
       "6670    0.531\n",
       "6671    0.531\n",
       "6672    0.531\n",
       "6673    0.531\n",
       "6674    0.504\n",
       "6675    0.504\n",
       "6676    0.504\n",
       "6677    0.504\n",
       "6678    0.504\n",
       "6679    0.504\n",
       "6680    0.504\n",
       "6681    0.568\n",
       "6682    0.568\n",
       "6683    0.568\n",
       "6684    0.568\n",
       "6685    0.568\n",
       "6686    0.568\n",
       "6687    0.568\n",
       "6688    0.547\n",
       "6689    0.547\n",
       "6690    0.547\n",
       "6691    0.547\n",
       "6692    0.473\n",
       "6693    0.473\n",
       "6694    0.473\n",
       "6695    0.473\n",
       "6696    0.473\n",
       "Name: Female_Percentage, dtype: float64"
      ]
     },
     "execution_count": 138,
     "metadata": {},
     "output_type": "execute_result"
    }
   ],
   "source": [
    "allcolumns = mergedf.columns \n",
    "dropcolumns = []\n",
    "for title in allcolumns:\n",
    "    #create array of columns to drop in dropcolumns array\n",
    "    if title in [\"Avg_No_Crim_N\", \"Female_Percentage\", \"Asian_Percentage\", \"Black_Percentage\", \"Hispanic_Percentage\"]:\n",
    "        continue   \n",
    "    else:\n",
    "        dropcolumns.append(title)\n",
    "#drop irrelevant columns and edit column format so they can merge\n",
    "x = mergedf.drop(dropcolumns, axis = 1)\n",
    "\n",
    "mergedf[\"Female_Percentage\"]"
   ]
  },
  {
   "cell_type": "code",
   "execution_count": 122,
   "metadata": {
    "collapsed": false
   },
   "outputs": [
    {
     "name": "stdout",
     "output_type": "stream",
     "text": [
      "2.46381847707\n",
      "0.494737496183\n",
      "0.106498666761\n",
      "0.314763303681\n",
      "0.445697244305\n"
     ]
    }
   ],
   "source": [
    "counter = 0\n",
    "array_crime = []\n",
    "for i in x.iterrows():\n",
    "    if ~np.isnan(i[1][\"Avg_No_Crim_N\"]) and (i[1][\"Avg_No_Crim_N\"] != \"NaN\"):\n",
    "#         print \"hi\"\n",
    "        array_crime.append(i[1][\"Avg_No_Crim_N\"])\n",
    "print np.mean(array_crime)\n",
    "for i in mergedf.iterrows():\n",
    "    if np.isnan(i[1][\"Avg_No_Crim_N\"]):\n",
    "        x.ix[counter, \"Avg_No_Crim_N\"] = np.mean(array_crime)\n",
    "    counter +=1\n",
    "counter1 = 0\n",
    "array_f = []\n",
    "for i in x.iterrows():\n",
    "    if ~np.isnan(i[1][\"Female_Percentage\"]):\n",
    "#         print \"hi\"\n",
    "        array_f.append(i[1][\"Female_Percentage\"])\n",
    "print np.mean(array_f)\n",
    "for i in mergedf.iterrows():\n",
    "    if np.isnan(i[1][\"Female_Percentage\"]):\n",
    "        x.ix[counter1, \"Female_Percentage\"] = np.mean(array_f)\n",
    "    counter1 +=1\n",
    "counter2 = 0\n",
    "array_a = []\n",
    "for i in x.iterrows():\n",
    "    if ~np.isnan(i[1][\"Asian_Percentage\"]):\n",
    "#         print \"hi\"\n",
    "        array_a.append(i[1][\"Asian_Percentage\"])\n",
    "print np.mean(array_a)\n",
    "for i in mergedf.iterrows():\n",
    "    if np.isnan(i[1][\"Asian_Percentage\"]):\n",
    "        x.ix[counter2, \"Asian_Percentage\"] = np.mean(array_a)\n",
    "    counter2 +=1\n",
    "counter3 = 0\n",
    "array_b = []\n",
    "for i in x.iterrows():\n",
    "    if ~np.isnan(i[1][\"Black_Percentage\"]):\n",
    "#         print \"hi\"\n",
    "        array_b.append(i[1][\"Black_Percentage\"])\n",
    "print np.mean(array_b)\n",
    "for i in mergedf.iterrows():\n",
    "    if np.isnan(i[1][\"Black_Percentage\"]):\n",
    "        x.ix[counter3, \"Black_Percentage\"] = np.mean(array_b)\n",
    "    counter3 +=1\n",
    "counter4 = 0\n",
    "array_h = []\n",
    "for i in x.iterrows():\n",
    "    if ~np.isnan(i[1][\"Hispanic_Percentage\"]):\n",
    "#         print \"hi\"\n",
    "        array_h.append(i[1][\"Hispanic_Percentage\"])\n",
    "print np.mean(array_h)\n",
    "for i in mergedf.iterrows():\n",
    "    if np.isnan(i[1][\"Hispanic_Percentage\"]):\n",
    "        x.ix[counter4, \"Hispanic_Percentage\"] = np.mean(array_h)\n",
    "    counter4 +=1"
   ]
  },
  {
   "cell_type": "code",
   "execution_count": 139,
   "metadata": {
    "collapsed": false
   },
   "outputs": [],
   "source": [
    "for i in x[\"Avg_No_Crim_N\"]:\n",
    "    if np.isnan(i):\n",
    "        print \"hi\""
   ]
  },
  {
   "cell_type": "code",
   "execution_count": 163,
   "metadata": {
    "collapsed": false
   },
   "outputs": [
    {
     "name": "stdout",
     "output_type": "stream",
     "text": [
      "[[ 0.443       0.064       0.369       0.542       1.23      ]\n",
      " [ 0.443       0.064       0.369       0.542       1.23      ]\n",
      " [ 0.443       0.064       0.369       0.542       1.23      ]\n",
      " ..., \n",
      " [ 0.473       0.006       0.287       0.644       2.44092983]\n",
      " [ 0.473       0.006       0.287       0.644       2.44092983]\n",
      " [ 0.473       0.006       0.287       0.644       2.44092983]]\n"
     ]
    }
   ],
   "source": [
    "# X = y.values.astype(np.double)\n",
    "Y = mergedf[\"Mean_Scale_Score\"].values.astype(np.double)\n",
    "X = x.values.astype(np.double)\n",
    "\n",
    "for i in x[\"Avg_No_Crim_N\"]:\n",
    "    if np.isnan(i):\n",
    "        print \"Hi\"\n",
    "\n",
    "print X\n",
    "# X = []\n",
    "# for i in Xdf:\n",
    "# #     print i\n",
    "#     if ~np.isnan(i):\n",
    "#         X.append(i)\n",
    "\n",
    "# print X\n",
    "# X /= X.std(axis=0)\n",
    "# print X\n",
    "# mergedf[\"Mean_Scale_Score\"].shape"
   ]
  },
  {
   "cell_type": "code",
   "execution_count": 175,
   "metadata": {
    "collapsed": false
   },
   "outputs": [
    {
     "name": "stdout",
     "output_type": "stream",
     "text": [
      "Automatically created module for IPython interactive environment\n",
      "(6697, 5)\n",
      "(442,)\n"
     ]
    }
   ],
   "source": [
    "print(__doc__)\n",
    "\n",
    "# Author: Alexandre Gramfort <alexandre.gramfort@inria.fr>\n",
    "# License: BSD 3 clause\n",
    "\n",
    "import numpy as np\n",
    "import matplotlib.pyplot as plt\n",
    "\n",
    "from sklearn.linear_model import lasso_path, enet_path\n",
    "from sklearn import datasets\n",
    "\n",
    "diabetes = datasets.load_diabetes()\n",
    "dX = diabetes.data\n",
    "dy = diabetes.target\n",
    "# print X.shape\n",
    "dX /= dX.std(axis=0)  # Standardize data (easier to set the l1_ratio parameter)\n",
    "# print X.shape\n",
    "# # Compute paths\n",
    "\n",
    "# eps = 5e-3  # the smaller it is the longer is the path\n",
    "\n",
    "# print(\"Computing regularization path using the lasso...\")\n",
    "# alphas_lasso, coefs_lasso, _ = lasso_path(X, y, eps, fit_intercept=False)\n",
    "\n",
    "# print(\"Computing regularization path using the positive lasso...\")\n",
    "# alphas_positive_lasso, coefs_positive_lasso, _ = lasso_path(\n",
    "#     X, y, eps, positive=True, fit_intercept=False)\n",
    "# print(\"Computing regularization path using the elastic net...\")\n",
    "# alphas_enet, coefs_enet, _ = enet_path(\n",
    "#     X, y, eps=eps, l1_ratio=0.8, fit_intercept=False)\n",
    "\n",
    "# print(\"Computing regularization path using the positve elastic net...\")\n",
    "# alphas_positive_enet, coefs_positive_enet, _ = enet_path(\n",
    "#     X, y, eps=eps, l1_ratio=0.8, positive=True, fit_intercept=False)\n",
    "\n",
    "# # Display results\n",
    "\n",
    "# plt.figure(1)\n",
    "# ax = plt.gca()\n",
    "# ax.set_color_cycle(2 * ['b', 'r', 'g', 'c', 'k'])\n",
    "# l1 = plt.plot(-np.log10(alphas_lasso), coefs_lasso.T)\n",
    "# l2 = plt.plot(-np.log10(alphas_enet), coefs_enet.T, linestyle='--')\n",
    "\n",
    "# plt.xlabel('-Log(alpha)')\n",
    "# plt.ylabel('coefficients')\n",
    "# plt.title('Lasso and Elastic-Net Paths')\n",
    "# plt.legend((l1[-1], l2[-1]), ('Lasso', 'Elastic-Net'), loc='lower left')\n",
    "# plt.axis('tight')\n",
    "\n",
    "\n",
    "# plt.figure(2)\n",
    "# ax = plt.gca()\n",
    "# ax.set_color_cycle(2 * ['b', 'r', 'g', 'c', 'k'])\n",
    "# l1 = plt.plot(-np.log10(alphas_lasso), coefs_lasso.T)\n",
    "# l2 = plt.plot(-np.log10(alphas_positive_lasso), coefs_positive_lasso.T,\n",
    "#               linestyle='--')\n",
    "\n",
    "# plt.xlabel('-Log(alpha)')\n",
    "# plt.ylabel('coefficients')\n",
    "# plt.title('Lasso and positive Lasso')\n",
    "# plt.legend((l1[-1], l2[-1]), ('Lasso', 'positive Lasso'), loc='lower left')\n",
    "# plt.axis('tight')\n",
    "\n",
    "\n",
    "# plt.figure(3)\n",
    "# ax = plt.gca()\n",
    "# ax.set_color_cycle(2 * ['b', 'r', 'g', 'c', 'k'])\n",
    "# l1 = plt.plot(-np.log10(alphas_enet), coefs_enet.T)\n",
    "# l2 = plt.plot(-np.log10(alphas_positive_enet), coefs_positive_enet.T,\n",
    "#               linestyle='--')\n",
    "\n",
    "# plt.xlabel('-Log(alpha)')\n",
    "# plt.ylabel('coefficients')\n",
    "# plt.title('Elastic-Net and positive Elastic-Net')\n",
    "# plt.legend((l1[-1], l2[-1]), ('Elastic-Net', 'positive Elastic-Net'),\n",
    "#            loc='lower left')\n",
    "# plt.axis('tight')\n",
    "# plt.show()\n",
    "print X.shape\n",
    "print y.shape"
   ]
  },
  {
   "cell_type": "code",
   "execution_count": null,
   "metadata": {
    "collapsed": false
   },
   "outputs": [],
   "source": []
  },
  {
   "cell_type": "code",
   "execution_count": 176,
   "metadata": {
    "collapsed": false
   },
   "outputs": [
    {
     "name": "stdout",
     "output_type": "stream",
     "text": [
      "Computing regularization path using the lasso...\n",
      "Computing regularization path using the elastic net...\n"
     ]
    },
    {
     "ename": "ValueError",
     "evalue": "x and y must have same first dimension",
     "output_type": "error",
     "traceback": [
      "\u001b[0;31m---------------------------------------------------------------------------\u001b[0m",
      "\u001b[0;31mValueError\u001b[0m                                Traceback (most recent call last)",
      "\u001b[0;32m<ipython-input-176-731b11ad14e2>\u001b[0m in \u001b[0;36m<module>\u001b[0;34m()\u001b[0m\n\u001b[1;32m     32\u001b[0m \u001b[0max\u001b[0m \u001b[0;34m=\u001b[0m \u001b[0mplt\u001b[0m\u001b[0;34m.\u001b[0m\u001b[0mgca\u001b[0m\u001b[0;34m(\u001b[0m\u001b[0;34m)\u001b[0m\u001b[0;34m\u001b[0m\u001b[0m\n\u001b[1;32m     33\u001b[0m \u001b[0max\u001b[0m\u001b[0;34m.\u001b[0m\u001b[0mset_color_cycle\u001b[0m\u001b[0;34m(\u001b[0m\u001b[0mcol\u001b[0m\u001b[0;34m)\u001b[0m\u001b[0;34m\u001b[0m\u001b[0m\n\u001b[0;32m---> 34\u001b[0;31m \u001b[0ml2\u001b[0m \u001b[0;34m=\u001b[0m \u001b[0mplt\u001b[0m\u001b[0;34m.\u001b[0m\u001b[0mplot\u001b[0m\u001b[0;34m(\u001b[0m\u001b[0;34m-\u001b[0m\u001b[0mnp\u001b[0m\u001b[0;34m.\u001b[0m\u001b[0mlog10\u001b[0m\u001b[0;34m(\u001b[0m\u001b[0malphas_enet\u001b[0m\u001b[0;34m)\u001b[0m\u001b[0;34m,\u001b[0m \u001b[0mcoefs_enet\u001b[0m\u001b[0;34m.\u001b[0m\u001b[0mT\u001b[0m\u001b[0;34m[\u001b[0m\u001b[0;34m:\u001b[0m \u001b[0;36m5\u001b[0m\u001b[0;34m]\u001b[0m\u001b[0;34m)\u001b[0m\u001b[0;34m\u001b[0m\u001b[0m\n\u001b[0m\u001b[1;32m     35\u001b[0m \u001b[0mplt\u001b[0m\u001b[0;34m.\u001b[0m\u001b[0mxlim\u001b[0m\u001b[0;34m(\u001b[0m\u001b[0;34m[\u001b[0m\u001b[0;36m1\u001b[0m\u001b[0;34m,\u001b[0m \u001b[0;36m4\u001b[0m\u001b[0;34m]\u001b[0m\u001b[0;34m)\u001b[0m\u001b[0;34m\u001b[0m\u001b[0m\n\u001b[1;32m     36\u001b[0m \u001b[0;34m\u001b[0m\u001b[0m\n",
      "\u001b[0;32m/Users/Choi/anaconda/lib/python2.7/site-packages/matplotlib/pyplot.pyc\u001b[0m in \u001b[0;36mplot\u001b[0;34m(*args, **kwargs)\u001b[0m\n\u001b[1;32m   3097\u001b[0m         \u001b[0max\u001b[0m\u001b[0;34m.\u001b[0m\u001b[0mhold\u001b[0m\u001b[0;34m(\u001b[0m\u001b[0mhold\u001b[0m\u001b[0;34m)\u001b[0m\u001b[0;34m\u001b[0m\u001b[0m\n\u001b[1;32m   3098\u001b[0m     \u001b[0;32mtry\u001b[0m\u001b[0;34m:\u001b[0m\u001b[0;34m\u001b[0m\u001b[0m\n\u001b[0;32m-> 3099\u001b[0;31m         \u001b[0mret\u001b[0m \u001b[0;34m=\u001b[0m \u001b[0max\u001b[0m\u001b[0;34m.\u001b[0m\u001b[0mplot\u001b[0m\u001b[0;34m(\u001b[0m\u001b[0;34m*\u001b[0m\u001b[0margs\u001b[0m\u001b[0;34m,\u001b[0m \u001b[0;34m**\u001b[0m\u001b[0mkwargs\u001b[0m\u001b[0;34m)\u001b[0m\u001b[0;34m\u001b[0m\u001b[0m\n\u001b[0m\u001b[1;32m   3100\u001b[0m         \u001b[0mdraw_if_interactive\u001b[0m\u001b[0;34m(\u001b[0m\u001b[0;34m)\u001b[0m\u001b[0;34m\u001b[0m\u001b[0m\n\u001b[1;32m   3101\u001b[0m     \u001b[0;32mfinally\u001b[0m\u001b[0;34m:\u001b[0m\u001b[0;34m\u001b[0m\u001b[0m\n",
      "\u001b[0;32m/Users/Choi/anaconda/lib/python2.7/site-packages/matplotlib/axes/_axes.pyc\u001b[0m in \u001b[0;36mplot\u001b[0;34m(self, *args, **kwargs)\u001b[0m\n\u001b[1;32m   1371\u001b[0m         \u001b[0mlines\u001b[0m \u001b[0;34m=\u001b[0m \u001b[0;34m[\u001b[0m\u001b[0;34m]\u001b[0m\u001b[0;34m\u001b[0m\u001b[0m\n\u001b[1;32m   1372\u001b[0m \u001b[0;34m\u001b[0m\u001b[0m\n\u001b[0;32m-> 1373\u001b[0;31m         \u001b[0;32mfor\u001b[0m \u001b[0mline\u001b[0m \u001b[0;32min\u001b[0m \u001b[0mself\u001b[0m\u001b[0;34m.\u001b[0m\u001b[0m_get_lines\u001b[0m\u001b[0;34m(\u001b[0m\u001b[0;34m*\u001b[0m\u001b[0margs\u001b[0m\u001b[0;34m,\u001b[0m \u001b[0;34m**\u001b[0m\u001b[0mkwargs\u001b[0m\u001b[0;34m)\u001b[0m\u001b[0;34m:\u001b[0m\u001b[0;34m\u001b[0m\u001b[0m\n\u001b[0m\u001b[1;32m   1374\u001b[0m             \u001b[0mself\u001b[0m\u001b[0;34m.\u001b[0m\u001b[0madd_line\u001b[0m\u001b[0;34m(\u001b[0m\u001b[0mline\u001b[0m\u001b[0;34m)\u001b[0m\u001b[0;34m\u001b[0m\u001b[0m\n\u001b[1;32m   1375\u001b[0m             \u001b[0mlines\u001b[0m\u001b[0;34m.\u001b[0m\u001b[0mappend\u001b[0m\u001b[0;34m(\u001b[0m\u001b[0mline\u001b[0m\u001b[0;34m)\u001b[0m\u001b[0;34m\u001b[0m\u001b[0m\n",
      "\u001b[0;32m/Users/Choi/anaconda/lib/python2.7/site-packages/matplotlib/axes/_base.pyc\u001b[0m in \u001b[0;36m_grab_next_args\u001b[0;34m(self, *args, **kwargs)\u001b[0m\n\u001b[1;32m    302\u001b[0m                 \u001b[0;32mreturn\u001b[0m\u001b[0;34m\u001b[0m\u001b[0m\n\u001b[1;32m    303\u001b[0m             \u001b[0;32mif\u001b[0m \u001b[0mlen\u001b[0m\u001b[0;34m(\u001b[0m\u001b[0mremaining\u001b[0m\u001b[0;34m)\u001b[0m \u001b[0;34m<=\u001b[0m \u001b[0;36m3\u001b[0m\u001b[0;34m:\u001b[0m\u001b[0;34m\u001b[0m\u001b[0m\n\u001b[0;32m--> 304\u001b[0;31m                 \u001b[0;32mfor\u001b[0m \u001b[0mseg\u001b[0m \u001b[0;32min\u001b[0m \u001b[0mself\u001b[0m\u001b[0;34m.\u001b[0m\u001b[0m_plot_args\u001b[0m\u001b[0;34m(\u001b[0m\u001b[0mremaining\u001b[0m\u001b[0;34m,\u001b[0m \u001b[0mkwargs\u001b[0m\u001b[0;34m)\u001b[0m\u001b[0;34m:\u001b[0m\u001b[0;34m\u001b[0m\u001b[0m\n\u001b[0m\u001b[1;32m    305\u001b[0m                     \u001b[0;32myield\u001b[0m \u001b[0mseg\u001b[0m\u001b[0;34m\u001b[0m\u001b[0m\n\u001b[1;32m    306\u001b[0m                 \u001b[0;32mreturn\u001b[0m\u001b[0;34m\u001b[0m\u001b[0m\n",
      "\u001b[0;32m/Users/Choi/anaconda/lib/python2.7/site-packages/matplotlib/axes/_base.pyc\u001b[0m in \u001b[0;36m_plot_args\u001b[0;34m(self, tup, kwargs)\u001b[0m\n\u001b[1;32m    280\u001b[0m             \u001b[0mx\u001b[0m \u001b[0;34m=\u001b[0m \u001b[0mnp\u001b[0m\u001b[0;34m.\u001b[0m\u001b[0marange\u001b[0m\u001b[0;34m(\u001b[0m\u001b[0my\u001b[0m\u001b[0;34m.\u001b[0m\u001b[0mshape\u001b[0m\u001b[0;34m[\u001b[0m\u001b[0;36m0\u001b[0m\u001b[0;34m]\u001b[0m\u001b[0;34m,\u001b[0m \u001b[0mdtype\u001b[0m\u001b[0;34m=\u001b[0m\u001b[0mfloat\u001b[0m\u001b[0;34m)\u001b[0m\u001b[0;34m\u001b[0m\u001b[0m\n\u001b[1;32m    281\u001b[0m \u001b[0;34m\u001b[0m\u001b[0m\n\u001b[0;32m--> 282\u001b[0;31m         \u001b[0mx\u001b[0m\u001b[0;34m,\u001b[0m \u001b[0my\u001b[0m \u001b[0;34m=\u001b[0m \u001b[0mself\u001b[0m\u001b[0;34m.\u001b[0m\u001b[0m_xy_from_xy\u001b[0m\u001b[0;34m(\u001b[0m\u001b[0mx\u001b[0m\u001b[0;34m,\u001b[0m \u001b[0my\u001b[0m\u001b[0;34m)\u001b[0m\u001b[0;34m\u001b[0m\u001b[0m\n\u001b[0m\u001b[1;32m    283\u001b[0m \u001b[0;34m\u001b[0m\u001b[0m\n\u001b[1;32m    284\u001b[0m         \u001b[0;32mif\u001b[0m \u001b[0mself\u001b[0m\u001b[0;34m.\u001b[0m\u001b[0mcommand\u001b[0m \u001b[0;34m==\u001b[0m \u001b[0;34m'plot'\u001b[0m\u001b[0;34m:\u001b[0m\u001b[0;34m\u001b[0m\u001b[0m\n",
      "\u001b[0;32m/Users/Choi/anaconda/lib/python2.7/site-packages/matplotlib/axes/_base.pyc\u001b[0m in \u001b[0;36m_xy_from_xy\u001b[0;34m(self, x, y)\u001b[0m\n\u001b[1;32m    221\u001b[0m         \u001b[0my\u001b[0m \u001b[0;34m=\u001b[0m \u001b[0mnp\u001b[0m\u001b[0;34m.\u001b[0m\u001b[0matleast_1d\u001b[0m\u001b[0;34m(\u001b[0m\u001b[0my\u001b[0m\u001b[0;34m)\u001b[0m\u001b[0;34m\u001b[0m\u001b[0m\n\u001b[1;32m    222\u001b[0m         \u001b[0;32mif\u001b[0m \u001b[0mx\u001b[0m\u001b[0;34m.\u001b[0m\u001b[0mshape\u001b[0m\u001b[0;34m[\u001b[0m\u001b[0;36m0\u001b[0m\u001b[0;34m]\u001b[0m \u001b[0;34m!=\u001b[0m \u001b[0my\u001b[0m\u001b[0;34m.\u001b[0m\u001b[0mshape\u001b[0m\u001b[0;34m[\u001b[0m\u001b[0;36m0\u001b[0m\u001b[0;34m]\u001b[0m\u001b[0;34m:\u001b[0m\u001b[0;34m\u001b[0m\u001b[0m\n\u001b[0;32m--> 223\u001b[0;31m             \u001b[0;32mraise\u001b[0m \u001b[0mValueError\u001b[0m\u001b[0;34m(\u001b[0m\u001b[0;34m\"x and y must have same first dimension\"\u001b[0m\u001b[0;34m)\u001b[0m\u001b[0;34m\u001b[0m\u001b[0m\n\u001b[0m\u001b[1;32m    224\u001b[0m         \u001b[0;32mif\u001b[0m \u001b[0mx\u001b[0m\u001b[0;34m.\u001b[0m\u001b[0mndim\u001b[0m \u001b[0;34m>\u001b[0m \u001b[0;36m2\u001b[0m \u001b[0;32mor\u001b[0m \u001b[0my\u001b[0m\u001b[0;34m.\u001b[0m\u001b[0mndim\u001b[0m \u001b[0;34m>\u001b[0m \u001b[0;36m2\u001b[0m\u001b[0;34m:\u001b[0m\u001b[0;34m\u001b[0m\u001b[0m\n\u001b[1;32m    225\u001b[0m             \u001b[0;32mraise\u001b[0m \u001b[0mValueError\u001b[0m\u001b[0;34m(\u001b[0m\u001b[0;34m\"x and y can be no greater than 2-D\"\u001b[0m\u001b[0;34m)\u001b[0m\u001b[0;34m\u001b[0m\u001b[0m\n",
      "\u001b[0;31mValueError\u001b[0m: x and y must have same first dimension"
     ]
    },
    {
     "data": {
      "image/png": "[encoded data removed]",
      "text/plain": [
       "<matplotlib.figure.Figure at 0x10cca9290>"
      ]
     },
     "metadata": {},
     "output_type": "display_data"
    }
   ],
   "source": [
    "from sklearn.linear_model import lasso_path, enet_path\n",
    "eps = 5e-6  # the smaller it is the longer is the path\n",
    "\n",
    "# X = mergedf[\"Mean_Scale_Score\"]\n",
    "\n",
    "# print X\n",
    "# y = mergedf[\"Avg_No_Crim_N\", \"Female_Percentage\", \"Asian_Percentage\", \"Black_Percentage\", \"Hispanic_Percentage\"]\n",
    "# print y\n",
    "print(\"Computing regularization path using the lasso...\")\n",
    "alphas_lasso, coefs_lasso, _ = lasso_path(dX, dy, eps = eps, fit_intercept=False)\n",
    "print(\"Computing regularization path using the elastic net...\")\n",
    "alphas_enet, coefs_enet, _ = enet_path(dX, dy, eps=eps, l1_ratio=0.8, fit_intercept=False)\n",
    "\n",
    "col = sns.color_palette(\"husl\", 5)\n",
    "\n",
    "# make the lasso path\n",
    "plt.figure(1)\n",
    "ax = plt.gca()\n",
    "ax.set_color_cycle(col)\n",
    "l1 = plt.plot(-np.log10(alphas_lasso), coefs_lasso.T)\n",
    "l2 = plt.plot(-np.log10(alphas_enet), coefs_enet.T, linestyle='--')\n",
    "plt.xlim([1, 4])\n",
    "\n",
    "plt.xlabel('-log(alpha)')\n",
    "plt.ylabel('coefficients')\n",
    "plt.title('Lasso and Elastic-Net Paths')\n",
    "plt.legend((l1[-1], l2[-1]), ('Lasso', 'Elastic-Net'), loc='lower left')\n",
    "\n",
    "col = sns.color_palette(\"hls\", 5)\n",
    "\n",
    "plt.figure(1)\n",
    "ax = plt.gca()\n",
    "ax.set_color_cycle(col)\n",
    "l2 = plt.plot(-np.log10(alphas_enet), coefs_enet.T[: 5])\n",
    "plt.xlim([1, 4])\n",
    "\n",
    "plt.xlabel('-log(alpha)')\n",
    "plt.ylabel('coefficients')\n",
    "plt.title('Elastic-Net Paths (largest coefficients)')\n",
    "plt.legend(l2, list(mergedf.columns.values[5]), loc='upper left')"
   ]
  },
  {
   "cell_type": "code",
   "execution_count": 178,
   "metadata": {
    "collapsed": false
   },
   "outputs": [
    {
     "name": "stdout",
     "output_type": "stream",
     "text": [
      "100 100\n"
     ]
    }
   ],
   "source": [
    "print  len(-np.log10(alphas_enet)), len(coefs_enet.T)"
   ]
  },
  {
   "cell_type": "code",
   "execution_count": 177,
   "metadata": {
    "collapsed": false
   },
   "outputs": [],
   "source": [
    "\n",
    "intercept = score_model2.params[0]\n",
    "Funding =score_model2.params[1] \n",
    "Crime_number = score_model2.params[2]\n",
    "Female_perc = score_model2.params[3]\n",
    "Asian_perc = score_model2.params[4]\n",
    "Black_perc = score_model2.params[5]\n",
    "Hispanic_perc = score_model2.params[6]\n",
    "\n",
    "\n",
    "    \n",
    "regression = {\"intercept\": intercept, \"Funding\": Funding , \"Crime_number\":Crime_number , \"Female%\": Female_perc , \"Asian%\": Asian_perc, \"Black%\": Black_perc, \"Hispanic%\": Hispanic_perc }\n",
    "\n",
    "import json\n",
    "with open('regression.json', 'w') as fp:\n",
    "    json.dump(regression, fp)"
   ]
  },
  {
   "cell_type": "code",
   "execution_count": null,
   "metadata": {
    "collapsed": false
   },
   "outputs": [],
   "source": [
    "import statsmodels.formula.api as sm\n",
    "import seaborn as sns\n",
    "import matplotlib as mpl\n",
    "import matplotlib.pyplot as plt\n",
    "\n",
    "f = \"Mean_Scale_Score ~ Funding + Average_Class_Size + Avg_No_Crim_N + Female_Percentage + Asian_Percentage + Black_Percentage + Hispanic_Percentage\"\n",
    "reg_results = sm.ols(f, data=grade3).fit().summary()\n",
    "\n",
    "sns.set(style=\"ticks\") \n",
    "mpl.rc(\"figure\", figsize=(10, 15))\n",
    "\n",
    "sns.coefplot(f,grade3,intercept=False);"
   ]
  },
  {
   "cell_type": "code",
   "execution_count": null,
   "metadata": {
    "collapsed": false
   },
   "outputs": [],
   "source": [
    "import statsmodels.formula.api as sm\n",
    "import seaborn as sns\n",
    "import matplotlib as mpl\n",
    "import matplotlib.pyplot as plt\n",
    "\n",
    "f = \"Aca_t_11 ~ np.log(Funding) + Average_Class_Size + Avg_No_Crim_N + School_Type + Female_Percentage + Asian_Percentage + Black_Percentage + Hispanic_Percentage\"\n",
    "reg_results = sm.ols(f, data=grade3).fit().summary()\n",
    "\n",
    "sns.set(style=\"ticks\") \n",
    "mpl.rc(\"figure\", figsize=(10, 15))\n",
    "\n",
    "sns.coefplot(f,grade3,intercept=False);\n"
   ]
  },
  {
   "cell_type": "code",
   "execution_count": null,
   "metadata": {
    "collapsed": false
   },
   "outputs": [],
   "source": [
    "#plot the variables on two graphs, or plot on one graph separating the school type by dot color \n",
    "g = sns.FacetGrid(grade3, col=\"School_Type\")\n",
    "g.map(plt.scatter, \"Asian_Percentage\", \"Mean_Scale_Score\", alpha=.7)\n",
    "g.add_legend();\n",
    "\n",
    "g = sns.FacetGrid(grade3, col=\"School_Type\")\n",
    "g.map(plt.scatter, \"Black_Percentage\", \"Mean_Scale_Score\", alpha=.7)\n",
    "g.add_legend();\n",
    "\n",
    "g = sns.FacetGrid(grade3, col=\"School_Type\")\n",
    "g.map(plt.scatter, \"Hispanic_Percentage\", \"Mean_Scale_Score\", alpha=.7)\n",
    "g.add_legend();\n",
    "\n",
    "\n",
    "g = sns.FacetGrid(grade3, hue = \"School_Type\")\n",
    "g.map(plt.scatter, \"Other_Percentage\", \"Mean_Scale_Score\", alpha=.7)\n",
    "g.add_legend();\n",
    "\n",
    "g = sns.FacetGrid(grade3, hue = \"School_Type\")\n",
    "g.map(plt.scatter, \"Average_Class_Size\", \"Mean_Scale_Score\", alpha=.7)\n",
    "g.add_legend();\n",
    "\n",
    "g = sns.FacetGrid(grade3, hue = \"School_Type\")\n",
    "g.map(plt.scatter, \"Avg_No_Crim_N\", \"Mean_Scale_Score\", alpha=.7)\n",
    "g.add_legend();\n",
    "\n",
    "g = sns.FacetGrid(grade3, col=\"School_Type\")\n",
    "g.map(plt.scatter, \"White_Percentage\", \"Mean_Scale_Score\", alpha=.7)\n",
    "g.add_legend();\n",
    "\n",
    "g = sns.FacetGrid(grade3, hue=\"School_Type\")\n",
    "g.map(plt.scatter, \"White_Percentage\", \"Mean_Scale_Score\", alpha=.7)\n",
    "g.add_legend();\n"
   ]
  },
  {
   "cell_type": "code",
   "execution_count": null,
   "metadata": {
    "collapsed": false
   },
   "outputs": [],
   "source": [
    "# then we want to find the optimal class size\n",
    "# first split the data into train and test sets\n",
    "from sklearn.cross_validation import train_test_split\n",
    "itrain, itest = train_test_split(xrange(newgrade3.shape[0]), train_size=0.7)"
   ]
  },
  {
   "cell_type": "code",
   "execution_count": null,
   "metadata": {
    "collapsed": false
   },
   "outputs": [],
   "source": [
    "# mask\n",
    "mask=np.ones(newgrade3.shape[0], dtype='int')\n",
    "mask[itrain]=1\n",
    "mask[itest]=0\n",
    "mask = (mask==1)\n",
    "mask.shape, mask.sum()"
   ]
  },
  {
   "cell_type": "code",
   "execution_count": null,
   "metadata": {
    "collapsed": false
   },
   "outputs": [],
   "source": [
    "# train a SVM on this data\n",
    "from sklearn.svm import LinearSVC\n",
    "clfsvm=LinearSVC(loss=\"hinge\")\n",
    "Cs=[0.001, 0.01, 0.1, 1.0, 10.0, 100.0]\n",
    "# columns = \n",
    "Xcsize = newgrade3[['Average_Class_Size', \"School_Type\", \"Asian_Percentage\", \"Black_Percentage\", \"Hispanic_Percentage\"]].values\n",
    "Yscore = newgrade3['Mean_Scale_Score'].values\n",
    "Xcsize_train = Xcsize[mask]\n",
    "Xcsize_test = Xcsize[~mask]\n",
    "Yscore_train = Yscore[mask]\n",
    "Yscore_test = Yscore[~mask]"
   ]
  },
  {
   "cell_type": "code",
   "execution_count": null,
   "metadata": {
    "collapsed": false
   },
   "outputs": [],
   "source": [
    "Yscore2 = newgrade3['Aca_t_11'].values\n",
    "# print Scsize_train.size\n",
    "# for i in Yscore:\n",
    "#     print type(i)\n",
    "Yscore_train2 = Yscore2[mask]\n",
    "print Yscore_train2\n",
    "Yscore_test2 = Yscore2[~mask]"
   ]
  },
  {
   "cell_type": "code",
   "execution_count": null,
   "metadata": {
    "collapsed": false
   },
   "outputs": [],
   "source": [
    "# get the best fit classifier using 5-fold cross validation\n",
    "from sklearn import grid_search\n",
    "clf = LinearSVC(loss = 'hinge')\n",
    "parameters = {\"C\": [0.001, 0.01, 0.1, 1.0, 10.0, 100.0]}\n",
    "best = grid_search.GridSearchCV(clf, param_grid=parameters, cv=5, scoring=\"accuracy\")\n",
    "# we have too many nan's for class size, need to think more about what variable to use \n",
    "# best.fit(Xcsize_train, Yscore_train)\n",
    "# best.best_estimator_, best.best_params_, best.best_score_, best.grid_scores_"
   ]
  },
  {
   "cell_type": "code",
   "execution_count": null,
   "metadata": {
    "collapsed": false
   },
   "outputs": [],
   "source": [
    "parameters = {\"C\": Cs}\n",
    "best = grid_search.GridSearchCV(clfsvm, param_grid=parameters, cv=5)\n",
    "# best2.fit(Xcsize_train, Yscore_train)\n",
    "# we have too many nan's for class size, need to think more about what variable to use \n",
    "best.fit(Xcsize_train, Yscore_train)\n",
    "# print \"best estimator\", best.best_estimator_.score\n",
    "best.best_estimator_, best.best_params_, best.best_score_, best.grid_scores_"
   ]
  },
  {
   "cell_type": "code",
   "execution_count": null,
   "metadata": {
    "collapsed": false
   },
   "outputs": [],
   "source": [
    "# check accuracy \n",
    "from sklearn.metrics import accuracy_score\n",
    "clf = LinearSVC(C=best.best_params_['C'], loss='hinge')\n",
    "clf.fit(Xcsize_train, Yscore_train)\n",
    "ypred = clf.predict(Xcsize_test)\n",
    "accuracy_score(ypred, Yscore_test)"
   ]
  },
  {
   "cell_type": "code",
   "execution_count": null,
   "metadata": {
    "collapsed": false
   },
   "outputs": [],
   "source": [
    "from sklearn.linear_model import LogisticRegression\n",
    "\n",
    "clflog, Xtrain, ytrain, Xtest, ytest = do_classify(LogisticRegression(penalty=\"l1\"), \n",
    "                                                   {\"C\": [0.001, 0.01, 0.1, 1.0, 10.0, 100.0]}, \n",
    "                                                   dftouse, lcols, u'RESP', 1 , mask=mask, reuse_split=reuse_split)"
   ]
  },
  {
   "cell_type": "code",
   "execution_count": null,
   "metadata": {
    "collapsed": true
   },
   "outputs": [],
   "source": [
    "# optimization\n",
    "def cv_optimize(clf, parameters, X, y, n_folds, score_func):\n",
    "    fitmodel = grid_search.GridSearchCV(clf, param_grid=parameters, cv=n_folds, scoring=\"accuracy\")\n",
    "    fitmodel.fit(X, y)\n",
    "    best = fitmodel.best_estimator_\n",
    "    return best"
   ]
  },
  {
   "cell_type": "code",
   "execution_count": null,
   "metadata": {
    "collapsed": true
   },
   "outputs": [],
   "source": [
    "# an interface to any classifier\n",
    "from sklearn.metrics import confusion_matrix\n",
    "def do_classify(clf, parameters, indf, featurenames, targetname, target1val, mask=None, reuse_split=None, score_func=None, n_folds=5):\n",
    "    subdf=indf[featurenames]\n",
    "    X=subdf.values\n",
    "    y=(indf[targetname].values==target1val)*1\n",
    "    if mask !=None:\n",
    "        print \"using mask\"\n",
    "        Xtrain, Xtest, ytrain, ytest = X[mask], X[~mask], y[mask], y[~mask]\n",
    "    if reuse_split !=None:\n",
    "        print \"using reuse split\"\n",
    "        Xtrain, Xtest, ytrain, ytest = reuse_split['Xtrain'], reuse_split['Xtest'], reuse_split['ytrain'], reuse_split['ytest']\n",
    "    if parameters:\n",
    "        clf = cv_optimize(clf, parameters, Xtrain, ytrain, n_folds=n_folds, score_func=score_func)\n",
    "    clf=clf.fit(Xtrain, ytrain)\n",
    "    training_accuracy = clf.score(Xtrain, ytrain)\n",
    "    test_accuracy = clf.score(Xtest, ytest)\n",
    "    print \"############# based on standard predict ################\"\n",
    "    print \"Accuracy on training data: %0.2f\" % (training_accuracy)\n",
    "    print \"Accuracy on test data:     %0.2f\" % (test_accuracy)\n",
    "    print confusion_matrix(ytest, clf.predict(Xtest))\n",
    "    print \"########################################################\"\n",
    "    return clf, Xtrain, ytrain, Xtest, ytest"
   ]
  },
  {
   "cell_type": "code",
   "execution_count": null,
   "metadata": {
    "collapsed": false
   },
   "outputs": [],
   "source": [
    "# now try the lasso regression\n",
    "from sklearn.linear_model import LogisticRegression\n",
    "reuse_split=dict(Xtrain=Xcsize_train, Xtest=Xcsize_test, ytrain=Yscore_train, ytest=Yscore_test)\n",
    "clfsvm, Xtrain, ytrain, Xtest, ytest = do_classify(LogisticRegression(penalty=\"l1\"), \n",
    "                                                   {\"C\": [0.001, 0.01, 0.1, 1.0, 10.0, 100.0]}, \n",
    "                                                   newgrade3, ['Average_Class_Size', \"School_Type\", \"Asian_Percentage\", \"Black_Percentage\", \"Hispanic_Percentage\"], 'Mean_Scale_Score', 1 , mask=mask, reuse_split=reuse_split)"
   ]
  },
  {
   "cell_type": "code",
   "execution_count": null,
   "metadata": {
    "collapsed": true
   },
   "outputs": [],
   "source": [
    "from sklearn.metrics import roc_curve, auc\n",
    "def make_roc(name, clf, ytest, xtest, ax=None, labe=5, proba=True, skip=0):\n",
    "    initial=False\n",
    "    if not ax:\n",
    "        ax=plt.gca()\n",
    "        initial=True\n",
    "    if proba:#for stuff like logistic regression\n",
    "        fpr, tpr, thresholds=roc_curve(ytest, clf.predict_proba(xtest)[:,1])\n",
    "    else:#for stuff like SVM\n",
    "        fpr, tpr, thresholds=roc_curve(ytest, clf.decision_function(xtest))\n",
    "    roc_auc = auc(fpr, tpr)\n",
    "    if skip:\n",
    "        l=fpr.shape[0]\n",
    "        ax.plot(fpr[0:l:skip], tpr[0:l:skip], '.-', alpha=0.3, label='ROC curve for %s (area = %0.2f)' % (name, roc_auc))\n",
    "    else:\n",
    "        ax.plot(fpr, tpr, '.-', alpha=0.3, label='ROC curve for %s (area = %0.2f)' % (name, roc_auc))\n",
    "    label_kwargs = {}\n",
    "    label_kwargs['bbox'] = dict(\n",
    "        boxstyle='round,pad=0.3', alpha=0.2,\n",
    "    )\n",
    "    if labe!=None:\n",
    "        for k in xrange(0, fpr.shape[0],labe):\n",
    "            #from https://gist.github.com/podshumok/c1d1c9394335d86255b8\n",
    "            threshold = str(np.round(thresholds[k], 2))\n",
    "            ax.annotate(threshold, (fpr[k], tpr[k]), **label_kwargs)\n",
    "    if initial:\n",
    "        ax.plot([0, 1], [0, 1], 'k--')\n",
    "        ax.set_xlim([0.0, 1.0])\n",
    "        ax.set_ylim([0.0, 1.05])\n",
    "        ax.set_xlabel('False Positive Rate')\n",
    "        ax.set_ylabel('True Positive Rate')\n",
    "        ax.set_title('ROC')\n",
    "    ax.legend(loc=\"lower right\")\n",
    "    return ax"
   ]
  },
  {
   "cell_type": "code",
   "execution_count": null,
   "metadata": {
    "collapsed": false
   },
   "outputs": [],
   "source": [
    "with sns.hls_palette(8, l=.3, s=.8):\n",
    "    ax=make_roc(\"logistic-with-lasso\",clfsvm, Yscore_test, Xcsize_test, labe=200, skip=50, proba = False)"
   ]
  },
  {
   "cell_type": "code",
   "execution_count": null,
   "metadata": {
    "collapsed": false
   },
   "outputs": [],
   "source": [
    "# Lasso regression\n",
    "clf_lasso = linear_model.Lasso(alpha=0.1)\n",
    "X = mergedf[['Funding', 'Average_Class_Size', 'Avg_No_Crim_N', 'Female_Percentage', 'Asian_Percentage', 'Black_Percentage', 'Hispanic_Percentage']]\n",
    "y = mergedf['Mean_Scale_Score']\n",
    "clf_lasso.fit(X, y)"
   ]
  },
  {
   "cell_type": "code",
   "execution_count": null,
   "metadata": {
    "collapsed": false
   },
   "outputs": [],
   "source": [
    "# linear svm\n",
    "from sklearn.svm import LinearSVC\n",
    "clfsvm = LinearSVC(loss = 'hinge')\n",
    "parameters = {\"C\": [0.001, 0.01, 0.1, 1.0, 10.0, 100.0]}\n",
    "best = grid_search.GridSearchCV(clfsvm, param_grid=parameters, cv=5)\n",
    "best.fit(X, y)"
   ]
  },
  {
   "cell_type": "code",
   "execution_count": null,
   "metadata": {
    "collapsed": false
   },
   "outputs": [],
   "source": [
    "# Generalized linear model\n",
    "from sklearn import linear_model\n",
    "clf_gen = linear_model.LinearRegression()\n",
    "clf_gen.fit(X,y)"
   ]
  },
  {
   "cell_type": "code",
   "execution_count": null,
   "metadata": {
    "collapsed": false
   },
   "outputs": [],
   "source": [
    "from sklearn import linear_model\n",
    "clf_ridge = linear_model.Ridge (alpha = .5)\n",
    "clf_ridge.fit(X,y)"
   ]
  },
  {
   "cell_type": "code",
   "execution_count": null,
   "metadata": {
    "collapsed": true
   },
   "outputs": [],
   "source": []
  }
 ],
 "metadata": {
  "kernelspec": {
   "display_name": "Python 2",
   "language": "python",
   "name": "python2"
  },
  "language_info": {
   "codemirror_mode": {
    "name": "ipython",
    "version": 2
   },
   "file_extension": ".py",
   "mimetype": "text/x-python",
   "name": "python",
   "nbconvert_exporter": "python",
   "pygments_lexer": "ipython2",
   "version": "2.7.10"
  }
 },
 "nbformat": 4,
 "nbformat_minor": 0
}
